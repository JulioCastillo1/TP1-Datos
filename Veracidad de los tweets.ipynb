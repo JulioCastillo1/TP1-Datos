{
  "nbformat": 4,
  "nbformat_minor": 0,
  "metadata": {
    "colab": {
      "name": "Copia de TP1-Datos.ipynb",
      "provenance": [],
      "collapsed_sections": [],
      "include_colab_link": true
    },
    "kernelspec": {
      "display_name": "Python 3",
      "language": "python",
      "name": "python3"
    },
    "language_info": {
      "codemirror_mode": {
        "name": "ipython",
        "version": 3
      },
      "file_extension": ".py",
      "mimetype": "text/x-python",
      "name": "python",
      "nbconvert_exporter": "python",
      "pygments_lexer": "ipython3",
      "version": "3.7.7"
    }
  },
  "cells": [
    {
      "cell_type": "markdown",
      "metadata": {
        "id": "view-in-github",
        "colab_type": "text"
      },
      "source": [
        "<a href=\"https://colab.research.google.com/github/JulioCastillo1/TP1-Datos/blob/master/Veracidad%20de%20los%20tweets.ipynb\" target=\"_parent\"><img src=\"https://colab.research.google.com/assets/colab-badge.svg\" alt=\"Open In Colab\"/></a>"
      ]
    },
    {
      "cell_type": "code",
      "metadata": {
        "colab_type": "code",
        "id": "0V1k7mDLiIan",
        "outputId": "8f6e7045-c8db-4206-ebd8-b65481da271f",
        "colab": {
          "base_uri": "https://localhost:8080/",
          "height": 34
        }
      },
      "source": [
        "import pandas as pd\n",
        "import numpy as np\n",
        "import seaborn as sns\n",
        "import matplotlib.pyplot as plt\n",
        "import wordcloud as wc\n",
        "import re\n",
        "from matplotlib.colors import ListedColormap\n",
        "from google.colab import files\n",
        "\n",
        "%pylab inline\n",
        "\n",
        "url='https://raw.githubusercontent.com/JulioCastillo1/TP1-Datos/master/train.csv'\n",
        "tweets = pd.read_csv(url)\n",
        "   "
      ],
      "execution_count": 45,
      "outputs": [
        {
          "output_type": "stream",
          "text": [
            "Populating the interactive namespace from numpy and matplotlib\n"
          ],
          "name": "stdout"
        }
      ]
    },
    {
      "cell_type": "markdown",
      "metadata": {
        "id": "vyjF6zgEdx5T",
        "colab_type": "text"
      },
      "source": [
        "Primera vista a la estructura del dataframe:"
      ]
    },
    {
      "cell_type": "code",
      "metadata": {
        "id": "4HTAx6dsq56b",
        "colab_type": "code",
        "outputId": "76816e90-f696-48c4-c975-2649708bab8c",
        "colab": {
          "base_uri": "https://localhost:8080/",
          "height": 206
        }
      },
      "source": [
        "tweets.head()"
      ],
      "execution_count": 46,
      "outputs": [
        {
          "output_type": "execute_result",
          "data": {
            "text/html": [
              "<div>\n",
              "<style scoped>\n",
              "    .dataframe tbody tr th:only-of-type {\n",
              "        vertical-align: middle;\n",
              "    }\n",
              "\n",
              "    .dataframe tbody tr th {\n",
              "        vertical-align: top;\n",
              "    }\n",
              "\n",
              "    .dataframe thead th {\n",
              "        text-align: right;\n",
              "    }\n",
              "</style>\n",
              "<table border=\"1\" class=\"dataframe\">\n",
              "  <thead>\n",
              "    <tr style=\"text-align: right;\">\n",
              "      <th></th>\n",
              "      <th>id</th>\n",
              "      <th>keyword</th>\n",
              "      <th>location</th>\n",
              "      <th>text</th>\n",
              "      <th>target</th>\n",
              "    </tr>\n",
              "  </thead>\n",
              "  <tbody>\n",
              "    <tr>\n",
              "      <th>0</th>\n",
              "      <td>1</td>\n",
              "      <td>NaN</td>\n",
              "      <td>NaN</td>\n",
              "      <td>Our Deeds are the Reason of this #earthquake M...</td>\n",
              "      <td>1</td>\n",
              "    </tr>\n",
              "    <tr>\n",
              "      <th>1</th>\n",
              "      <td>4</td>\n",
              "      <td>NaN</td>\n",
              "      <td>NaN</td>\n",
              "      <td>Forest fire near La Ronge Sask. Canada</td>\n",
              "      <td>1</td>\n",
              "    </tr>\n",
              "    <tr>\n",
              "      <th>2</th>\n",
              "      <td>5</td>\n",
              "      <td>NaN</td>\n",
              "      <td>NaN</td>\n",
              "      <td>All residents asked to 'shelter in place' are ...</td>\n",
              "      <td>1</td>\n",
              "    </tr>\n",
              "    <tr>\n",
              "      <th>3</th>\n",
              "      <td>6</td>\n",
              "      <td>NaN</td>\n",
              "      <td>NaN</td>\n",
              "      <td>13,000 people receive #wildfires evacuation or...</td>\n",
              "      <td>1</td>\n",
              "    </tr>\n",
              "    <tr>\n",
              "      <th>4</th>\n",
              "      <td>7</td>\n",
              "      <td>NaN</td>\n",
              "      <td>NaN</td>\n",
              "      <td>Just got sent this photo from Ruby #Alaska as ...</td>\n",
              "      <td>1</td>\n",
              "    </tr>\n",
              "  </tbody>\n",
              "</table>\n",
              "</div>"
            ],
            "text/plain": [
              "   id keyword  ...                                               text target\n",
              "0   1     NaN  ...  Our Deeds are the Reason of this #earthquake M...      1\n",
              "1   4     NaN  ...             Forest fire near La Ronge Sask. Canada      1\n",
              "2   5     NaN  ...  All residents asked to 'shelter in place' are ...      1\n",
              "3   6     NaN  ...  13,000 people receive #wildfires evacuation or...      1\n",
              "4   7     NaN  ...  Just got sent this photo from Ruby #Alaska as ...      1\n",
              "\n",
              "[5 rows x 5 columns]"
            ]
          },
          "metadata": {
            "tags": []
          },
          "execution_count": 46
        }
      ]
    },
    {
      "cell_type": "markdown",
      "metadata": {
        "id": "an8jUgcF5vEb",
        "colab_type": "text"
      },
      "source": [
        "Observamos los tipos de datos de cada columna:"
      ]
    },
    {
      "cell_type": "code",
      "metadata": {
        "id": "KDQi_HQkrB00",
        "colab_type": "code",
        "outputId": "27ee8eb4-b657-4e68-c6c7-228df6e4b7bf",
        "colab": {
          "base_uri": "https://localhost:8080/",
          "height": 121
        }
      },
      "source": [
        "tweets.dtypes"
      ],
      "execution_count": 47,
      "outputs": [
        {
          "output_type": "execute_result",
          "data": {
            "text/plain": [
              "id           int64\n",
              "keyword     object\n",
              "location    object\n",
              "text        object\n",
              "target       int64\n",
              "dtype: object"
            ]
          },
          "metadata": {
            "tags": []
          },
          "execution_count": 47
        }
      ]
    },
    {
      "cell_type": "markdown",
      "metadata": {
        "id": "p2QDkj1PhkA-",
        "colab_type": "text"
      },
      "source": [
        "Grafico el porcentaje de veracidad de tweets según keyword. **¿Qué asuntos están más asociados a desastres reales y cuáles a metafóricos?**\n",
        "\n",
        "Primero borro filas sin keyword, luego miramos si hay keywords con muy pocos tweets, así los quito para que sea significativa la proporción"
      ]
    },
    {
      "cell_type": "code",
      "metadata": {
        "id": "xBsgS97xBgST",
        "colab_type": "code",
        "outputId": "50c1ead4-b9f2-489e-9f7e-dacbdf0d0954",
        "colab": {
          "base_uri": "https://localhost:8080/",
          "height": 225
        }
      },
      "source": [
        "tweets_without_null_keyword = tweets.loc[~tweets['keyword'].isna()]\n",
        "tweets_without_null_keyword['keyword'].value_counts()"
      ],
      "execution_count": 48,
      "outputs": [
        {
          "output_type": "execute_result",
          "data": {
            "text/plain": [
              "fatalities               45\n",
              "deluge                   42\n",
              "armageddon               42\n",
              "damage                   41\n",
              "sinking                  41\n",
              "                         ..\n",
              "forest%20fire            19\n",
              "epicentre                12\n",
              "threat                   11\n",
              "inundation               10\n",
              "radiation%20emergency     9\n",
              "Name: keyword, Length: 221, dtype: int64"
            ]
          },
          "metadata": {
            "tags": []
          },
          "execution_count": 48
        }
      ]
    },
    {
      "cell_type": "markdown",
      "metadata": {
        "id": "DLrUW-cB882P",
        "colab_type": "text"
      },
      "source": [
        "Como 9 comparado con 45, sigue siendo una cantidad válida, uso todos los keywords"
      ]
    },
    {
      "cell_type": "code",
      "metadata": {
        "id": "psO26J4v6t1K",
        "colab_type": "code",
        "outputId": "f345adc4-7638-491f-aa1a-4dc99083e412",
        "colab": {
          "base_uri": "https://localhost:8080/",
          "height": 34
        }
      },
      "source": [
        "truth_percentage_by_keyword = tweets_without_null_keyword.groupby('keyword')['target'].agg('mean')\\\n",
        "  .to_frame()\\\n",
        "  .sort_values(by='target', ascending=False)\\\n",
        "  .round({'target': 4})\n",
        "\n",
        "truth_percentage_by_keyword.shape[0]"
      ],
      "execution_count": 49,
      "outputs": [
        {
          "output_type": "execute_result",
          "data": {
            "text/plain": [
              "221"
            ]
          },
          "metadata": {
            "tags": []
          },
          "execution_count": 49
        }
      ]
    },
    {
      "cell_type": "markdown",
      "metadata": {
        "id": "hKouA1pX9A-Q",
        "colab_type": "text"
      },
      "source": [
        "Como las categorías son más de 200, tengo que hacer un gráfico con el top 20 y el bottom 20, algo así, sino sería mala la visualización"
      ]
    },
    {
      "cell_type": "code",
      "metadata": {
        "id": "nxxVAupN9FQU",
        "colab_type": "code",
        "outputId": "32596098-8458-47b9-e728-6da5df9443aa",
        "colab": {
          "base_uri": "https://localhost:8080/",
          "height": 591
        }
      },
      "source": [
        "truth_percentage_by_keyword['target'] = truth_percentage_by_keyword['target'] * 100\n",
        "\n",
        "truth_percentage_by_keyword_top20 = truth_percentage_by_keyword[:20]\n",
        "truth_percentage_by_keyword_top20.index = truth_percentage_by_keyword_top20.index.str.replace('%20', ' ')\n",
        "\n",
        "truth_percentage_by_keyword_top20.plot(kind='bar', figsize=(20,8), rot=45, color=ListedColormap(sns.color_palette('dark'))(6));\n",
        "plt.title('Top 20 de veracidad de tweets en función del tema', fontsize=16)\n",
        "ax = plt.gca();\n",
        "ax.set_xlabel('Palabra clave')\n",
        "ax.set_ylabel('Porcentaje de verdaderos')"
      ],
      "execution_count": 50,
      "outputs": [
        {
          "output_type": "execute_result",
          "data": {
            "text/plain": [
              "Text(0, 0.5, 'Porcentaje de verdaderos')"
            ]
          },
          "metadata": {
            "tags": []
          },
          "execution_count": 50
        },
        {
          "output_type": "display_data",
          "data": {
            "image/png": "[encoded data removed]",
            "text/plain": [
              "<Figure size 1440x576 with 1 Axes>"
            ]
          },
          "metadata": {
            "tags": [],
            "needs_background": "light"
          }
        }
      ]
    },
    {
      "cell_type": "code",
      "metadata": {
        "id": "dF4rNomdOkwN",
        "colab_type": "code",
        "outputId": "02b9c5bc-2f54-46eb-b1be-e309230c7673",
        "colab": {
          "base_uri": "https://localhost:8080/",
          "height": 572
        }
      },
      "source": [
        "truth_percentage_by_keyword_bottom20 = truth_percentage_by_keyword[-20:] #ídem a .tail(20)\n",
        "truth_percentage_by_keyword_bottom20.index = truth_percentage_by_keyword_bottom20.index.str.replace('%20', ' ')\n",
        "\n",
        "truth_percentage_by_keyword_bottom20.plot(kind='bar', figsize=(20,8), rot=45, color=ListedColormap(sns.color_palette('pastel'))(6));\n",
        "plt.title('Bottom 20 de veracidad de tweets en función del tema', fontsize=16)\n",
        "ax = plt.gca();\n",
        "ax.set_xlabel('Palabra clave')\n",
        "ax.set_ylabel('Porcentaje de verdaderos')\n"
      ],
      "execution_count": 51,
      "outputs": [
        {
          "output_type": "execute_result",
          "data": {
            "text/plain": [
              "Text(0, 0.5, 'Porcentaje de verdaderos')"
            ]
          },
          "metadata": {
            "tags": []
          },
          "execution_count": 51
        },
        {
          "output_type": "display_data",
          "data": {
            "image/png": "[encoded data removed]",
            "text/plain": [
              "<Figure size 1440x576 with 1 Axes>"
            ]
          },
          "metadata": {
            "tags": [],
            "needs_background": "light"
          }
        }
      ]
    },
    {
      "cell_type": "markdown",
      "metadata": {
        "id": "yQswrfXfPp7c",
        "colab_type": "text"
      },
      "source": [
        "**Conclusiones**\n",
        "\n",
        "Observando los dos gráficos previos, se puede notar qué tipos de palabras clave suelen ser sobre desastres reales y cuáles se prestan más a la broma, metáfora, chiste u otro hecho artístico.\n",
        "\n",
        "La lista de veracidad la encabezan palabras clave como debris (escombros), wreckage (destrucción), derailment (descarrilamiento), outbreak (brote), oil spill (derrame de petróleo), razed (arrasado), typhoon (tifón), wildfire (incendio forestal), airplane accidents (no hace falta traducción :)) y buildings on fire (incendios en edificios). \n",
        "\n",
        "La de tweets sobre desastres no reales tiene temas como drown (ahogar o empapar), stretcher (camilla), collide (colisionar), bloody (sangrante), panic (pánico), explode (explotar), wrecked (borracho), screaming (gritando), electrocute (electrocución), body bag (bolsa de cadáver), aftershock (que no es usado en el sentido del terremoto físico sino metafórico), blight (plaga de plantas, literal o metafórica). \n",
        "\n",
        "Entonces lo que se nota es que cuando las palabras claves están asociadas a desastres en gran escala, donde no se involucra a una persona sino a multitudes, cuando refiere a estructuras complejas, grandes o a un accidente en zona geográfica, estos hablan casi seguro de desastres reales.\n",
        "En cambio los desastres no reales tienen como palabras claves las de asuntos más personales, individuales, emociones, o sea asuntos de menor escala.\n",
        "Esa es la tendencia que se divisa.\n",
        "\n",
        "---"
      ]
    },
    {
      "cell_type": "markdown",
      "metadata": {
        "id": "Yy5dXvZpAGpq",
        "colab_type": "text"
      },
      "source": [
        "Analogamente a lo que se hizo respecto al porcentaje de veracidad de tweets según keyword, ahora lo hacemos respecto a ubicaciones (location). **¿Qué ubicaciones están más asociados a desastres reales y cuáles a metafóricos?**\n",
        "\n",
        "Primero saco los tweets con locación nula. Luego miramos si hay locations con muy pocos tweets, así los quito para que sea significativa la ubicación\n"
      ]
    },
    {
      "cell_type": "code",
      "metadata": {
        "id": "9eU1atKVAwII",
        "colab_type": "code",
        "outputId": "86926be3-7a8f-4f9b-a4cf-807d032e36e0",
        "colab": {
          "base_uri": "https://localhost:8080/",
          "height": 225
        }
      },
      "source": [
        "tweets_without_null_location = tweets.loc[~tweets['location'].isna()]\n",
        "tweets_without_null_location['location'].value_counts()"
      ],
      "execution_count": 52,
      "outputs": [
        {
          "output_type": "execute_result",
          "data": {
            "text/plain": [
              "USA                       104\n",
              "New York                   71\n",
              "United States              50\n",
              "London                     45\n",
              "Canada                     29\n",
              "                         ... \n",
              "Memphis,TN/ World Wide      1\n",
              "CAMARILLO, CA               1\n",
              "Basking Ridge, NJ           1\n",
              "USA, Haiti, Nepal           1\n",
              "New Your                    1\n",
              "Name: location, Length: 3341, dtype: int64"
            ]
          },
          "metadata": {
            "tags": []
          },
          "execution_count": 52
        }
      ]
    },
    {
      "cell_type": "markdown",
      "metadata": {
        "id": "tAwMrygmBA45",
        "colab_type": "text"
      },
      "source": [
        "Hay locaciones con un sólo tweet así que vamos a quitar las locations con menos del 5% de ocurrencia respecto a la que está al tope con 104, o sea borro todas los tweets con las locations usadas 5 veces o menos."
      ]
    },
    {
      "cell_type": "code",
      "metadata": {
        "id": "tCqcCZS_BeYU",
        "colab_type": "code",
        "outputId": "df9e3d71-413d-4d15-e37e-aaa9bddeb683",
        "colab": {
          "base_uri": "https://localhost:8080/",
          "height": 1000
        }
      },
      "source": [
        "tweets_without_null_location = tweets_without_null_location.groupby('location').filter(lambda x: x['target'].sum() > 5)\n",
        "truth_percentage_by_location = tweets_without_null_location.groupby('location')['target'].agg('mean')\\\n",
        "  .to_frame()\\\n",
        "  .round({'target': 4})\n",
        "\n",
        "truth_percentage_by_location"
      ],
      "execution_count": 53,
      "outputs": [
        {
          "output_type": "execute_result",
          "data": {
            "text/html": [
              "<div>\n",
              "<style scoped>\n",
              "    .dataframe tbody tr th:only-of-type {\n",
              "        vertical-align: middle;\n",
              "    }\n",
              "\n",
              "    .dataframe tbody tr th {\n",
              "        vertical-align: top;\n",
              "    }\n",
              "\n",
              "    .dataframe thead th {\n",
              "        text-align: right;\n",
              "    }\n",
              "</style>\n",
              "<table border=\"1\" class=\"dataframe\">\n",
              "  <thead>\n",
              "    <tr style=\"text-align: right;\">\n",
              "      <th></th>\n",
              "      <th>target</th>\n",
              "    </tr>\n",
              "    <tr>\n",
              "      <th>location</th>\n",
              "      <th></th>\n",
              "    </tr>\n",
              "  </thead>\n",
              "  <tbody>\n",
              "    <tr>\n",
              "      <th>Australia</th>\n",
              "      <td>0.5000</td>\n",
              "    </tr>\n",
              "    <tr>\n",
              "      <th>California</th>\n",
              "      <td>0.4118</td>\n",
              "    </tr>\n",
              "    <tr>\n",
              "      <th>California, USA</th>\n",
              "      <td>0.5333</td>\n",
              "    </tr>\n",
              "    <tr>\n",
              "      <th>Canada</th>\n",
              "      <td>0.4483</td>\n",
              "    </tr>\n",
              "    <tr>\n",
              "      <th>Chicago, IL</th>\n",
              "      <td>0.5000</td>\n",
              "    </tr>\n",
              "    <tr>\n",
              "      <th>Denver, Colorado</th>\n",
              "      <td>0.6667</td>\n",
              "    </tr>\n",
              "    <tr>\n",
              "      <th>Earth</th>\n",
              "      <td>0.7273</td>\n",
              "    </tr>\n",
              "    <tr>\n",
              "      <th>India</th>\n",
              "      <td>0.8333</td>\n",
              "    </tr>\n",
              "    <tr>\n",
              "      <th>Indonesia</th>\n",
              "      <td>0.6154</td>\n",
              "    </tr>\n",
              "    <tr>\n",
              "      <th>Ireland</th>\n",
              "      <td>0.5000</td>\n",
              "    </tr>\n",
              "    <tr>\n",
              "      <th>London</th>\n",
              "      <td>0.3556</td>\n",
              "    </tr>\n",
              "    <tr>\n",
              "      <th>Los Angeles</th>\n",
              "      <td>0.5385</td>\n",
              "    </tr>\n",
              "    <tr>\n",
              "      <th>Los Angeles, CA</th>\n",
              "      <td>0.3077</td>\n",
              "    </tr>\n",
              "    <tr>\n",
              "      <th>Mumbai</th>\n",
              "      <td>0.8636</td>\n",
              "    </tr>\n",
              "    <tr>\n",
              "      <th>Nashville, TN</th>\n",
              "      <td>0.7778</td>\n",
              "    </tr>\n",
              "    <tr>\n",
              "      <th>New York</th>\n",
              "      <td>0.2254</td>\n",
              "    </tr>\n",
              "    <tr>\n",
              "      <th>New York City</th>\n",
              "      <td>0.6000</td>\n",
              "    </tr>\n",
              "    <tr>\n",
              "      <th>New York, NY</th>\n",
              "      <td>0.4667</td>\n",
              "    </tr>\n",
              "    <tr>\n",
              "      <th>Nigeria</th>\n",
              "      <td>0.7857</td>\n",
              "    </tr>\n",
              "    <tr>\n",
              "      <th>Sacramento, CA</th>\n",
              "      <td>0.7000</td>\n",
              "    </tr>\n",
              "    <tr>\n",
              "      <th>San Francisco</th>\n",
              "      <td>0.4286</td>\n",
              "    </tr>\n",
              "    <tr>\n",
              "      <th>San Francisco, CA</th>\n",
              "      <td>0.6364</td>\n",
              "    </tr>\n",
              "    <tr>\n",
              "      <th>Toronto</th>\n",
              "      <td>0.5833</td>\n",
              "    </tr>\n",
              "    <tr>\n",
              "      <th>UK</th>\n",
              "      <td>0.5926</td>\n",
              "    </tr>\n",
              "    <tr>\n",
              "      <th>US</th>\n",
              "      <td>0.6667</td>\n",
              "    </tr>\n",
              "    <tr>\n",
              "      <th>USA</th>\n",
              "      <td>0.6442</td>\n",
              "    </tr>\n",
              "    <tr>\n",
              "      <th>United States</th>\n",
              "      <td>0.5400</td>\n",
              "    </tr>\n",
              "    <tr>\n",
              "      <th>Washington, D.C.</th>\n",
              "      <td>0.6923</td>\n",
              "    </tr>\n",
              "    <tr>\n",
              "      <th>Washington, DC</th>\n",
              "      <td>0.7143</td>\n",
              "    </tr>\n",
              "    <tr>\n",
              "      <th>Worldwide</th>\n",
              "      <td>0.6316</td>\n",
              "    </tr>\n",
              "  </tbody>\n",
              "</table>\n",
              "</div>"
            ],
            "text/plain": [
              "                   target\n",
              "location                 \n",
              "Australia          0.5000\n",
              "California         0.4118\n",
              "California, USA    0.5333\n",
              "Canada             0.4483\n",
              "Chicago, IL        0.5000\n",
              "Denver, Colorado   0.6667\n",
              "Earth              0.7273\n",
              "India              0.8333\n",
              "Indonesia          0.6154\n",
              "Ireland            0.5000\n",
              "London             0.3556\n",
              "Los Angeles        0.5385\n",
              "Los Angeles, CA    0.3077\n",
              "Mumbai             0.8636\n",
              "Nashville, TN      0.7778\n",
              "New York           0.2254\n",
              "New York City      0.6000\n",
              "New York, NY       0.4667\n",
              "Nigeria            0.7857\n",
              "Sacramento, CA     0.7000\n",
              "San Francisco      0.4286\n",
              "San Francisco, CA  0.6364\n",
              "Toronto            0.5833\n",
              "UK                 0.5926\n",
              "US                 0.6667\n",
              "USA                0.6442\n",
              "United States      0.5400\n",
              "Washington, D.C.   0.6923\n",
              "Washington, DC     0.7143\n",
              "Worldwide          0.6316"
            ]
          },
          "metadata": {
            "tags": []
          },
          "execution_count": 53
        }
      ]
    },
    {
      "cell_type": "markdown",
      "metadata": {
        "id": "lFyFxmRtKNQb",
        "colab_type": "text"
      },
      "source": [
        "No son tantas ubicaciones, se puede hacer el grááfico, pero hay nombres repetidos con pequeñas variaciones de caracteres, vamos a unificarlos (esto habría que hacerlo antes de quitar los locations con menos de 5 ocurrencias, pero hay en total 3341 locations...)"
      ]
    },
    {
      "cell_type": "code",
      "metadata": {
        "id": "ughPsCabpyY4",
        "colab_type": "code",
        "outputId": "c1551450-99e8-4370-eac8-d6e76ca04f9f",
        "colab": {
          "base_uri": "https://localhost:8080/",
          "height": 739
        }
      },
      "source": [
        "tweets_without_null_location['location'] = tweets_without_null_location['location'].replace('Los Angeles, CA', 'Los Angeles')\\\n",
        "  .replace('New York City', 'New York')\\\n",
        "  .replace('New York, NY', 'New York')\\\n",
        "  .replace('San Francisco, CA', 'San Francisco')\\\n",
        "  .replace('US', 'United States')\\\n",
        "  .replace('USA', 'United States')\\\n",
        "  .replace('Washington, DC', 'Washington, D.C.')\\\n",
        "  .replace('California, USA', 'California')\\\n",
        "  .replace('Earth', 'Worldwide')\n",
        "\n",
        "tweets_without_null_location = tweets_without_null_location.groupby('location').filter(lambda x: x['target'].sum() > 5)\n",
        "truth_percentage_by_location = tweets_without_null_location.groupby('location')['target'].agg('mean')\\\n",
        "  .to_frame()\\\n",
        "  .round({'target': 4})\\\n",
        "  .sort_values(by='target', ascending=False)\\\n",
        "  \n",
        "truth_percentage_by_location['target'] = truth_percentage_by_location['target'] * 100\n",
        "\n",
        "truth_percentage_by_location"
      ],
      "execution_count": 54,
      "outputs": [
        {
          "output_type": "execute_result",
          "data": {
            "text/html": [
              "<div>\n",
              "<style scoped>\n",
              "    .dataframe tbody tr th:only-of-type {\n",
              "        vertical-align: middle;\n",
              "    }\n",
              "\n",
              "    .dataframe tbody tr th {\n",
              "        vertical-align: top;\n",
              "    }\n",
              "\n",
              "    .dataframe thead th {\n",
              "        text-align: right;\n",
              "    }\n",
              "</style>\n",
              "<table border=\"1\" class=\"dataframe\">\n",
              "  <thead>\n",
              "    <tr style=\"text-align: right;\">\n",
              "      <th></th>\n",
              "      <th>target</th>\n",
              "    </tr>\n",
              "    <tr>\n",
              "      <th>location</th>\n",
              "      <th></th>\n",
              "    </tr>\n",
              "  </thead>\n",
              "  <tbody>\n",
              "    <tr>\n",
              "      <th>Mumbai</th>\n",
              "      <td>86.36</td>\n",
              "    </tr>\n",
              "    <tr>\n",
              "      <th>India</th>\n",
              "      <td>83.33</td>\n",
              "    </tr>\n",
              "    <tr>\n",
              "      <th>Nigeria</th>\n",
              "      <td>78.57</td>\n",
              "    </tr>\n",
              "    <tr>\n",
              "      <th>Nashville, TN</th>\n",
              "      <td>77.78</td>\n",
              "    </tr>\n",
              "    <tr>\n",
              "      <th>Washington, D.C.</th>\n",
              "      <td>70.59</td>\n",
              "    </tr>\n",
              "    <tr>\n",
              "      <th>Sacramento, CA</th>\n",
              "      <td>70.00</td>\n",
              "    </tr>\n",
              "    <tr>\n",
              "      <th>Worldwide</th>\n",
              "      <td>66.67</td>\n",
              "    </tr>\n",
              "    <tr>\n",
              "      <th>Denver, Colorado</th>\n",
              "      <td>66.67</td>\n",
              "    </tr>\n",
              "    <tr>\n",
              "      <th>Indonesia</th>\n",
              "      <td>61.54</td>\n",
              "    </tr>\n",
              "    <tr>\n",
              "      <th>United States</th>\n",
              "      <td>61.35</td>\n",
              "    </tr>\n",
              "    <tr>\n",
              "      <th>UK</th>\n",
              "      <td>59.26</td>\n",
              "    </tr>\n",
              "    <tr>\n",
              "      <th>Toronto</th>\n",
              "      <td>58.33</td>\n",
              "    </tr>\n",
              "    <tr>\n",
              "      <th>San Francisco</th>\n",
              "      <td>52.00</td>\n",
              "    </tr>\n",
              "    <tr>\n",
              "      <th>Ireland</th>\n",
              "      <td>50.00</td>\n",
              "    </tr>\n",
              "    <tr>\n",
              "      <th>Chicago, IL</th>\n",
              "      <td>50.00</td>\n",
              "    </tr>\n",
              "    <tr>\n",
              "      <th>Australia</th>\n",
              "      <td>50.00</td>\n",
              "    </tr>\n",
              "    <tr>\n",
              "      <th>California</th>\n",
              "      <td>46.88</td>\n",
              "    </tr>\n",
              "    <tr>\n",
              "      <th>Canada</th>\n",
              "      <td>44.83</td>\n",
              "    </tr>\n",
              "    <tr>\n",
              "      <th>Los Angeles</th>\n",
              "      <td>38.46</td>\n",
              "    </tr>\n",
              "    <tr>\n",
              "      <th>London</th>\n",
              "      <td>35.56</td>\n",
              "    </tr>\n",
              "    <tr>\n",
              "      <th>New York</th>\n",
              "      <td>30.21</td>\n",
              "    </tr>\n",
              "  </tbody>\n",
              "</table>\n",
              "</div>"
            ],
            "text/plain": [
              "                  target\n",
              "location                \n",
              "Mumbai             86.36\n",
              "India              83.33\n",
              "Nigeria            78.57\n",
              "Nashville, TN      77.78\n",
              "Washington, D.C.   70.59\n",
              "Sacramento, CA     70.00\n",
              "Worldwide          66.67\n",
              "Denver, Colorado   66.67\n",
              "Indonesia          61.54\n",
              "United States      61.35\n",
              "UK                 59.26\n",
              "Toronto            58.33\n",
              "San Francisco      52.00\n",
              "Ireland            50.00\n",
              "Chicago, IL        50.00\n",
              "Australia          50.00\n",
              "California         46.88\n",
              "Canada             44.83\n",
              "Los Angeles        38.46\n",
              "London             35.56\n",
              "New York           30.21"
            ]
          },
          "metadata": {
            "tags": []
          },
          "execution_count": 54
        }
      ]
    },
    {
      "cell_type": "markdown",
      "metadata": {
        "id": "FM5sUzmFsWFv",
        "colab_type": "text"
      },
      "source": [
        "Es imprecisa la clasificación de ubicaciones, ya contiene distintas categorías: hay países, estados, ciudades e incluso hay uno que es el mundo entero (worldwide)"
      ]
    },
    {
      "cell_type": "code",
      "metadata": {
        "id": "bV75_4a8KUNs",
        "colab_type": "code",
        "outputId": "4e4f47fd-b8b4-4061-8915-c3763f67ce00",
        "colab": {
          "base_uri": "https://localhost:8080/",
          "height": 590
        }
      },
      "source": [
        "truth_percentage_by_location.plot(kind='bar', figsize=(20,8), rot=45, color=ListedColormap(sns.color_palette('deep'))(2)); \n",
        "plt.title('Veracidad de tweets en función de la ubicación', fontsize=16) \n",
        "\n",
        "ax = plt.gca()\n",
        "ax.set_xlabel('Ubicación') \n",
        "ax.set_ylabel('Porcentaje de verdaderos')\n"
      ],
      "execution_count": 55,
      "outputs": [
        {
          "output_type": "execute_result",
          "data": {
            "text/plain": [
              "Text(0, 0.5, 'Porcentaje de verdaderos')"
            ]
          },
          "metadata": {
            "tags": []
          },
          "execution_count": 55
        },
        {
          "output_type": "display_data",
          "data": {
            "image/png": "[encoded data removed]",
            "text/plain": [
              "<Figure size 1440x576 with 1 Axes>"
            ]
          },
          "metadata": {
            "tags": [],
            "needs_background": "light"
          }
        }
      ]
    },
    {
      "cell_type": "code",
      "metadata": {
        "id": "LnQ1eO4bPcY2",
        "colab_type": "code",
        "outputId": "4e6d0d2e-492d-43a4-97c6-89b8e39c2260",
        "colab": {
          "base_uri": "https://localhost:8080/",
          "height": 399
        }
      },
      "source": [
        "tweets_without_null_location['location'].value_counts()"
      ],
      "execution_count": 56,
      "outputs": [
        {
          "output_type": "execute_result",
          "data": {
            "text/plain": [
              "United States       163\n",
              "New York             96\n",
              "London               45\n",
              "Los Angeles          39\n",
              "Washington, D.C.     34\n",
              "California           32\n",
              "Worldwide            30\n",
              "Canada               29\n",
              "Nigeria              28\n",
              "UK                   27\n",
              "San Francisco        25\n",
              "India                24\n",
              "Mumbai               22\n",
              "Chicago, IL          18\n",
              "Australia            18\n",
              "Indonesia            13\n",
              "Toronto              12\n",
              "Ireland              12\n",
              "Sacramento, CA       10\n",
              "Denver, Colorado      9\n",
              "Nashville, TN         9\n",
              "Name: location, dtype: int64"
            ]
          },
          "metadata": {
            "tags": []
          },
          "execution_count": 56
        }
      ]
    },
    {
      "cell_type": "code",
      "metadata": {
        "id": "rgaRCD8-PtBa",
        "colab_type": "code",
        "outputId": "54d56035-06bf-4bb0-8aad-ed90d98f2db0",
        "colab": {
          "base_uri": "https://localhost:8080/",
          "height": 382
        }
      },
      "source": [
        "#Me quedo con las 20 locaciones con más uso\n",
        "location_counter = tweets_without_null_location['location'].value_counts().iloc[0:20]\n",
        "location_counter"
      ],
      "execution_count": 57,
      "outputs": [
        {
          "output_type": "execute_result",
          "data": {
            "text/plain": [
              "United States       163\n",
              "New York             96\n",
              "London               45\n",
              "Los Angeles          39\n",
              "Washington, D.C.     34\n",
              "California           32\n",
              "Worldwide            30\n",
              "Canada               29\n",
              "Nigeria              28\n",
              "UK                   27\n",
              "San Francisco        25\n",
              "India                24\n",
              "Mumbai               22\n",
              "Chicago, IL          18\n",
              "Australia            18\n",
              "Indonesia            13\n",
              "Toronto              12\n",
              "Ireland              12\n",
              "Sacramento, CA       10\n",
              "Denver, Colorado      9\n",
              "Name: location, dtype: int64"
            ]
          },
          "metadata": {
            "tags": []
          },
          "execution_count": 57
        }
      ]
    },
    {
      "cell_type": "code",
      "metadata": {
        "id": "zQFvmm6tRVoP",
        "colab_type": "code",
        "outputId": "4e99952b-158f-4440-cb9f-a6aa855d00e1",
        "colab": {
          "base_uri": "https://localhost:8080/",
          "height": 543
        }
      },
      "source": [
        "location_counter.plot(kind = 'barh',figsize = (10,8), color = ListedColormap(sns.color_palette('muted'))(2), fontsize = 13)\n",
        "plt.title('Most used locations',fontsize  = 20)\n",
        "plt.xlabel('Location',fontsize = 16)\n",
        "plt.ylabel('Appearences', fontsize = 20)"
      ],
      "execution_count": 58,
      "outputs": [
        {
          "output_type": "execute_result",
          "data": {
            "text/plain": [
              "Text(0, 0.5, 'Appearences')"
            ]
          },
          "metadata": {
            "tags": []
          },
          "execution_count": 58
        },
        {
          "output_type": "display_data",
          "data": {
            "image/png": "[encoded data removed]",
            "text/plain": [
              "<Figure size 720x576 with 1 Axes>"
            ]
          },
          "metadata": {
            "tags": [],
            "needs_background": "light"
          }
        }
      ]
    },
    {
      "cell_type": "markdown",
      "metadata": {
        "id": "88hy5slNK9Li",
        "colab_type": "text"
      },
      "source": [
        "**Conclusiones**\n",
        "\n",
        "Observando los dos gráficos previos, se puede notar..."
      ]
    },
    {
      "cell_type": "markdown",
      "metadata": {
        "id": "GAb_tWVzLLAs",
        "colab_type": "text"
      },
      "source": [
        "**Vamos a analizar la relación entre la longitud de los tweets y su veracidad**"
      ]
    },
    {
      "cell_type": "code",
      "metadata": {
        "id": "Uz7Al6m4I4Uq",
        "colab_type": "code",
        "outputId": "1eb9e97e-fe27-4e53-9e28-1467e2658ceb",
        "colab": {
          "base_uri": "https://localhost:8080/",
          "height": 143
        }
      },
      "source": [
        "tweets['longitud'] = tweets['text'].str.len()\n",
        "tweets.to_csv(\"tweets_length.csv\")\n",
        "#files.download(\"tweets_length.csv\")\n",
        "tweets_description = tweets['longitud'].describe()\n",
        "tweets_description = tweets_description.to_frame()\n",
        "tweets_description.rename(index={'mean':'promedio', 'min':'mínimo', 'max':'máximo'}, inplace=True)\n",
        "tweets_description.drop(['count', 'std', '25%', '50%', '75%'], inplace=True)\n",
        "tweets_description['longitud'] = tweets_description['longitud'].astype(int)\n",
        "tweets_description"
      ],
      "execution_count": 59,
      "outputs": [
        {
          "output_type": "execute_result",
          "data": {
            "text/html": [
              "<div>\n",
              "<style scoped>\n",
              "    .dataframe tbody tr th:only-of-type {\n",
              "        vertical-align: middle;\n",
              "    }\n",
              "\n",
              "    .dataframe tbody tr th {\n",
              "        vertical-align: top;\n",
              "    }\n",
              "\n",
              "    .dataframe thead th {\n",
              "        text-align: right;\n",
              "    }\n",
              "</style>\n",
              "<table border=\"1\" class=\"dataframe\">\n",
              "  <thead>\n",
              "    <tr style=\"text-align: right;\">\n",
              "      <th></th>\n",
              "      <th>longitud</th>\n",
              "    </tr>\n",
              "  </thead>\n",
              "  <tbody>\n",
              "    <tr>\n",
              "      <th>promedio</th>\n",
              "      <td>101</td>\n",
              "    </tr>\n",
              "    <tr>\n",
              "      <th>mínimo</th>\n",
              "      <td>7</td>\n",
              "    </tr>\n",
              "    <tr>\n",
              "      <th>máximo</th>\n",
              "      <td>157</td>\n",
              "    </tr>\n",
              "  </tbody>\n",
              "</table>\n",
              "</div>"
            ],
            "text/plain": [
              "          longitud\n",
              "promedio       101\n",
              "mínimo           7\n",
              "máximo         157"
            ]
          },
          "metadata": {
            "tags": []
          },
          "execution_count": 59
        }
      ]
    },
    {
      "cell_type": "code",
      "metadata": {
        "id": "nLpdiOMEI4U6",
        "colab_type": "code",
        "outputId": "e99f866a-346b-49fa-be3d-9ca081afe52b",
        "colab": {
          "base_uri": "https://localhost:8080/",
          "height": 424
        }
      },
      "source": [
        "bins = pd.cut(tweets['longitud'], bins=[0, 20, 40, 60, 80, 100, 120, 140, 160, 180])\n",
        "tweets['bin'] = bins\n",
        "tweets"
      ],
      "execution_count": 60,
      "outputs": [
        {
          "output_type": "execute_result",
          "data": {
            "text/html": [
              "<div>\n",
              "<style scoped>\n",
              "    .dataframe tbody tr th:only-of-type {\n",
              "        vertical-align: middle;\n",
              "    }\n",
              "\n",
              "    .dataframe tbody tr th {\n",
              "        vertical-align: top;\n",
              "    }\n",
              "\n",
              "    .dataframe thead th {\n",
              "        text-align: right;\n",
              "    }\n",
              "</style>\n",
              "<table border=\"1\" class=\"dataframe\">\n",
              "  <thead>\n",
              "    <tr style=\"text-align: right;\">\n",
              "      <th></th>\n",
              "      <th>id</th>\n",
              "      <th>keyword</th>\n",
              "      <th>location</th>\n",
              "      <th>text</th>\n",
              "      <th>target</th>\n",
              "      <th>longitud</th>\n",
              "      <th>bin</th>\n",
              "    </tr>\n",
              "  </thead>\n",
              "  <tbody>\n",
              "    <tr>\n",
              "      <th>0</th>\n",
              "      <td>1</td>\n",
              "      <td>NaN</td>\n",
              "      <td>NaN</td>\n",
              "      <td>Our Deeds are the Reason of this #earthquake M...</td>\n",
              "      <td>1</td>\n",
              "      <td>69</td>\n",
              "      <td>(60, 80]</td>\n",
              "    </tr>\n",
              "    <tr>\n",
              "      <th>1</th>\n",
              "      <td>4</td>\n",
              "      <td>NaN</td>\n",
              "      <td>NaN</td>\n",
              "      <td>Forest fire near La Ronge Sask. Canada</td>\n",
              "      <td>1</td>\n",
              "      <td>38</td>\n",
              "      <td>(20, 40]</td>\n",
              "    </tr>\n",
              "    <tr>\n",
              "      <th>2</th>\n",
              "      <td>5</td>\n",
              "      <td>NaN</td>\n",
              "      <td>NaN</td>\n",
              "      <td>All residents asked to 'shelter in place' are ...</td>\n",
              "      <td>1</td>\n",
              "      <td>133</td>\n",
              "      <td>(120, 140]</td>\n",
              "    </tr>\n",
              "    <tr>\n",
              "      <th>3</th>\n",
              "      <td>6</td>\n",
              "      <td>NaN</td>\n",
              "      <td>NaN</td>\n",
              "      <td>13,000 people receive #wildfires evacuation or...</td>\n",
              "      <td>1</td>\n",
              "      <td>65</td>\n",
              "      <td>(60, 80]</td>\n",
              "    </tr>\n",
              "    <tr>\n",
              "      <th>4</th>\n",
              "      <td>7</td>\n",
              "      <td>NaN</td>\n",
              "      <td>NaN</td>\n",
              "      <td>Just got sent this photo from Ruby #Alaska as ...</td>\n",
              "      <td>1</td>\n",
              "      <td>88</td>\n",
              "      <td>(80, 100]</td>\n",
              "    </tr>\n",
              "    <tr>\n",
              "      <th>...</th>\n",
              "      <td>...</td>\n",
              "      <td>...</td>\n",
              "      <td>...</td>\n",
              "      <td>...</td>\n",
              "      <td>...</td>\n",
              "      <td>...</td>\n",
              "      <td>...</td>\n",
              "    </tr>\n",
              "    <tr>\n",
              "      <th>7608</th>\n",
              "      <td>10869</td>\n",
              "      <td>NaN</td>\n",
              "      <td>NaN</td>\n",
              "      <td>Two giant cranes holding a bridge collapse int...</td>\n",
              "      <td>1</td>\n",
              "      <td>83</td>\n",
              "      <td>(80, 100]</td>\n",
              "    </tr>\n",
              "    <tr>\n",
              "      <th>7609</th>\n",
              "      <td>10870</td>\n",
              "      <td>NaN</td>\n",
              "      <td>NaN</td>\n",
              "      <td>@aria_ahrary @TheTawniest The out of control w...</td>\n",
              "      <td>1</td>\n",
              "      <td>125</td>\n",
              "      <td>(120, 140]</td>\n",
              "    </tr>\n",
              "    <tr>\n",
              "      <th>7610</th>\n",
              "      <td>10871</td>\n",
              "      <td>NaN</td>\n",
              "      <td>NaN</td>\n",
              "      <td>M1.94 [01:04 UTC]?5km S of Volcano Hawaii. htt...</td>\n",
              "      <td>1</td>\n",
              "      <td>65</td>\n",
              "      <td>(60, 80]</td>\n",
              "    </tr>\n",
              "    <tr>\n",
              "      <th>7611</th>\n",
              "      <td>10872</td>\n",
              "      <td>NaN</td>\n",
              "      <td>NaN</td>\n",
              "      <td>Police investigating after an e-bike collided ...</td>\n",
              "      <td>1</td>\n",
              "      <td>137</td>\n",
              "      <td>(120, 140]</td>\n",
              "    </tr>\n",
              "    <tr>\n",
              "      <th>7612</th>\n",
              "      <td>10873</td>\n",
              "      <td>NaN</td>\n",
              "      <td>NaN</td>\n",
              "      <td>The Latest: More Homes Razed by Northern Calif...</td>\n",
              "      <td>1</td>\n",
              "      <td>94</td>\n",
              "      <td>(80, 100]</td>\n",
              "    </tr>\n",
              "  </tbody>\n",
              "</table>\n",
              "<p>7613 rows × 7 columns</p>\n",
              "</div>"
            ],
            "text/plain": [
              "         id keyword location  ... target  longitud         bin\n",
              "0         1     NaN      NaN  ...      1        69    (60, 80]\n",
              "1         4     NaN      NaN  ...      1        38    (20, 40]\n",
              "2         5     NaN      NaN  ...      1       133  (120, 140]\n",
              "3         6     NaN      NaN  ...      1        65    (60, 80]\n",
              "4         7     NaN      NaN  ...      1        88   (80, 100]\n",
              "...     ...     ...      ...  ...    ...       ...         ...\n",
              "7608  10869     NaN      NaN  ...      1        83   (80, 100]\n",
              "7609  10870     NaN      NaN  ...      1       125  (120, 140]\n",
              "7610  10871     NaN      NaN  ...      1        65    (60, 80]\n",
              "7611  10872     NaN      NaN  ...      1       137  (120, 140]\n",
              "7612  10873     NaN      NaN  ...      1        94   (80, 100]\n",
              "\n",
              "[7613 rows x 7 columns]"
            ]
          },
          "metadata": {
            "tags": []
          },
          "execution_count": 60
        }
      ]
    },
    {
      "cell_type": "code",
      "metadata": {
        "id": "QVl3SnIEI4VG",
        "colab_type": "code",
        "colab": {}
      },
      "source": [
        "tweets_percentage = tweets.groupby('bin').agg({'target':'mean'})\n",
        "tweets_percentage['target'] = round(tweets_percentage['target'] * 100, 2);\n",
        "tweets_percentage.rename(columns={'target':'porcentaje'}, inplace=True)"
      ],
      "execution_count": 0,
      "outputs": []
    },
    {
      "cell_type": "code",
      "metadata": {
        "id": "0R5lpREUI4Vg",
        "colab_type": "code",
        "outputId": "8ba3f136-6206-4701-f124-add0aaca16b1",
        "colab": {
          "base_uri": "https://localhost:8080/",
          "height": 524
        }
      },
      "source": [
        "matplotlib.rcParams['font.size'] = 14\n",
        "matplotlib.rcParams['font.weight'] = 'bold'\n",
        "\n",
        "fig = plt.figure()\n",
        "ax = fig.add_subplot(111)\n",
        "\n",
        "plt.title('Cantidad de tweets según su longitud', fontsize=16)\n",
        "ax.set_xlabel('Longitud')\n",
        "tweets['longitud'].plot.kde(color='darksalmon', figsize=(16, 8))\n",
        "\n",
        "plt.show()"
      ],
      "execution_count": 62,
      "outputs": [
        {
          "output_type": "display_data",
          "data": {
            "image/png": "[encoded data removed]",
            "text/plain": [
              "<Figure size 1152x576 with 1 Axes>"
            ]
          },
          "metadata": {
            "tags": [],
            "needs_background": "light"
          }
        }
      ]
    },
    {
      "cell_type": "code",
      "metadata": {
        "id": "HwfuhpVfI4Vp",
        "colab_type": "code",
        "outputId": "c0507f1c-975b-4cb1-ca81-6eb14c99addf",
        "colab": {
          "base_uri": "https://localhost:8080/",
          "height": 524
        }
      },
      "source": [
        "tweets_description.plot(kind='bar', figsize=(16,8), rot=0, title='Características de los tweets', color='lightblue');\n",
        "ax = plt.gca();\n",
        "ax.set_ylabel('Cantidad de caracteres')"
      ],
      "execution_count": 63,
      "outputs": [
        {
          "output_type": "execute_result",
          "data": {
            "text/plain": [
              "Text(0, 0.5, 'Cantidad de caracteres')"
            ]
          },
          "metadata": {
            "tags": []
          },
          "execution_count": 63
        },
        {
          "output_type": "display_data",
          "data": {
            "image/png": "[encoded data removed]",
            "text/plain": [
              "<Figure size 1152x576 with 1 Axes>"
            ]
          },
          "metadata": {
            "tags": [],
            "needs_background": "light"
          }
        }
      ]
    },
    {
      "cell_type": "code",
      "metadata": {
        "id": "EPPPdddcI4Vy",
        "colab_type": "code",
        "outputId": "19caee2f-2e99-4fb4-e25c-11c10aac7ed5",
        "colab": {
          "base_uri": "https://localhost:8080/",
          "height": 871
        }
      },
      "source": [
        "tweets_percentage.plot(kind='bar', figsize=(16,8), rot=0, title='Veracidad de tweets en función del tamaño', color=ListedColormap(sns.color_palette('muted'))(8));\n",
        "ax = plt.gca();\n",
        "ax.set_xlabel('Tamaño de los tweets en caracteres')\n",
        "ax.set_ylabel('Porcentaje de tweets verdaderos')\n",
        "tweets_percentage"
      ],
      "execution_count": 65,
      "outputs": [
        {
          "output_type": "execute_result",
          "data": {
            "text/html": [
              "<div>\n",
              "<style scoped>\n",
              "    .dataframe tbody tr th:only-of-type {\n",
              "        vertical-align: middle;\n",
              "    }\n",
              "\n",
              "    .dataframe tbody tr th {\n",
              "        vertical-align: top;\n",
              "    }\n",
              "\n",
              "    .dataframe thead th {\n",
              "        text-align: right;\n",
              "    }\n",
              "</style>\n",
              "<table border=\"1\" class=\"dataframe\">\n",
              "  <thead>\n",
              "    <tr style=\"text-align: right;\">\n",
              "      <th></th>\n",
              "      <th>porcentaje</th>\n",
              "    </tr>\n",
              "    <tr>\n",
              "      <th>bin</th>\n",
              "      <th></th>\n",
              "    </tr>\n",
              "  </thead>\n",
              "  <tbody>\n",
              "    <tr>\n",
              "      <th>(0, 20]</th>\n",
              "      <td>8.97</td>\n",
              "    </tr>\n",
              "    <tr>\n",
              "      <th>(20, 40]</th>\n",
              "      <td>18.43</td>\n",
              "    </tr>\n",
              "    <tr>\n",
              "      <th>(40, 60]</th>\n",
              "      <td>26.40</td>\n",
              "    </tr>\n",
              "    <tr>\n",
              "      <th>(60, 80]</th>\n",
              "      <td>36.61</td>\n",
              "    </tr>\n",
              "    <tr>\n",
              "      <th>(80, 100]</th>\n",
              "      <td>48.22</td>\n",
              "    </tr>\n",
              "    <tr>\n",
              "      <th>(100, 120]</th>\n",
              "      <td>45.36</td>\n",
              "    </tr>\n",
              "    <tr>\n",
              "      <th>(120, 140]</th>\n",
              "      <td>49.91</td>\n",
              "    </tr>\n",
              "    <tr>\n",
              "      <th>(140, 160]</th>\n",
              "      <td>46.31</td>\n",
              "    </tr>\n",
              "    <tr>\n",
              "      <th>(160, 180]</th>\n",
              "      <td>NaN</td>\n",
              "    </tr>\n",
              "  </tbody>\n",
              "</table>\n",
              "</div>"
            ],
            "text/plain": [
              "            porcentaje\n",
              "bin                   \n",
              "(0, 20]           8.97\n",
              "(20, 40]         18.43\n",
              "(40, 60]         26.40\n",
              "(60, 80]         36.61\n",
              "(80, 100]        48.22\n",
              "(100, 120]       45.36\n",
              "(120, 140]       49.91\n",
              "(140, 160]       46.31\n",
              "(160, 180]         NaN"
            ]
          },
          "metadata": {
            "tags": []
          },
          "execution_count": 65
        },
        {
          "output_type": "display_data",
          "data": {
            "image/png": "[encoded data removed]",
            "text/plain": [
              "<Figure size 1152x576 with 1 Axes>"
            ]
          },
          "metadata": {
            "tags": [],
            "needs_background": "light"
          }
        }
      ]
    },
    {
      "cell_type": "markdown",
      "metadata": {
        "id": "XH35OZR7rnEI",
        "colab_type": "text"
      },
      "source": [
        "**Insights aprendidos**\n",
        "\n",
        "(el TP solicita: ¿Presenta el grupo un listado de \"insights\" aprendidos sobre los datos en base al análisis realizado? ¿Es interesante?)\n",
        "\n",
        "* Los tweets con mayor longitud tiene una mayor tendencia a la veracidad.\n",
        "* Bla bla bla\n",
        "* Guitarra\n",
        "* Cajón"
      ]
    }
  ]
}