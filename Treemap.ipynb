{
  "nbformat": 4,
  "nbformat_minor": 0,
  "metadata": {
    "colab": {
      "name": "Treemap.ipynb",
      "provenance": [],
      "collapsed_sections": [],
      "include_colab_link": true
    },
    "kernelspec": {
      "name": "python3",
      "display_name": "Python 3"
    }
  },
  "cells": [
    {
      "cell_type": "markdown",
      "metadata": {
        "id": "view-in-github",
        "colab_type": "text"
      },
      "source": [
        "<a href=\"https://colab.research.google.com/github/JulioCastillo1/TP1-Datos/blob/master/Treemap.ipynb\" target=\"_parent\"><img src=\"https://colab.research.google.com/assets/colab-badge.svg\" alt=\"Open In Colab\"/></a>"
      ]
    },
    {
      "cell_type": "code",
      "metadata": {
        "id": "FmGaul1UAIZX",
        "colab_type": "code",
        "outputId": "9c8f04e7-6288-4804-d3b3-9d1742949791",
        "colab": {
          "base_uri": "https://localhost:8080/",
          "height": 326
        }
      },
      "source": [
        "import pandas as pd\n",
        "import numpy as np\n",
        "import matplotlib.pyplot as plt\n",
        "from operator import itemgetter\n",
        "import plotly.express as px\n",
        "!pip install squarify\n",
        "import squarify\n",
        "import seaborn\n",
        "\n",
        "url='https://raw.githubusercontent.com/JulioCastillo1/TP1-Datos/master/loaded_locations.csv'\n",
        "tweets = pd.read_csv(url)\n",
        "\n",
        "tweets.dtypes"
      ],
      "execution_count": 0,
      "outputs": [
        {
          "output_type": "stream",
          "text": [
            "Collecting squarify\n",
            "  Downloading https://files.pythonhosted.org/packages/0b/2b/2e77c35326efec19819cd1d729540d4d235e6c2a3f37658288a363a67da5/squarify-0.4.3-py3-none-any.whl\n",
            "Installing collected packages: squarify\n",
            "Successfully installed squarify-0.4.3\n"
          ],
          "name": "stdout"
        },
        {
          "output_type": "stream",
          "text": [
            "/usr/local/lib/python3.6/dist-packages/statsmodels/tools/_testing.py:19: FutureWarning:\n",
            "\n",
            "pandas.util.testing is deprecated. Use the functions in the public API at pandas.testing instead.\n",
            "\n"
          ],
          "name": "stderr"
        },
        {
          "output_type": "execute_result",
          "data": {
            "text/plain": [
              "Unnamed: 0      int64\n",
              "id              int64\n",
              "keyword        object\n",
              "location       object\n",
              "text           object\n",
              "target          int64\n",
              "geolocation    object\n",
              "point          object\n",
              "dtype: object"
            ]
          },
          "metadata": {
            "tags": []
          },
          "execution_count": 1
        }
      ]
    },
    {
      "cell_type": "code",
      "metadata": {
        "id": "eyQhspgPNoeE",
        "colab_type": "code",
        "outputId": "d796c9d8-ed35-4f14-8318-39e4b85e1292",
        "colab": {
          "base_uri": "https://localhost:8080/",
          "height": 272
        }
      },
      "source": [
        "tweets.info()"
      ],
      "execution_count": 0,
      "outputs": [
        {
          "output_type": "stream",
          "text": [
            "<class 'pandas.core.frame.DataFrame'>\n",
            "RangeIndex: 5080 entries, 0 to 5079\n",
            "Data columns (total 8 columns):\n",
            " #   Column       Non-Null Count  Dtype \n",
            "---  ------       --------------  ----- \n",
            " 0   Unnamed: 0   5080 non-null   int64 \n",
            " 1   id           5080 non-null   int64 \n",
            " 2   keyword      5080 non-null   object\n",
            " 3   location     5080 non-null   object\n",
            " 4   text         5080 non-null   object\n",
            " 5   target       5080 non-null   int64 \n",
            " 6   geolocation  4083 non-null   object\n",
            " 7   point        4083 non-null   object\n",
            "dtypes: int64(3), object(5)\n",
            "memory usage: 317.6+ KB\n"
          ],
          "name": "stdout"
        }
      ]
    },
    {
      "cell_type": "code",
      "metadata": {
        "id": "9S7nB6iT5I2n",
        "colab_type": "code",
        "outputId": "26ffaa44-6c7a-4f8a-f878-a8a86cf63b2c",
        "colab": {
          "base_uri": "https://localhost:8080/",
          "height": 221
        }
      },
      "source": [
        "tweets['geolocation'].value_counts"
      ],
      "execution_count": 0,
      "outputs": [
        {
          "output_type": "execute_result",
          "data": {
            "text/plain": [
              "<bound method IndexOpsMixin.value_counts of 0       Birmingham, West Midlands Combined Authority, ...\n",
              "1                                                     NaN\n",
              "2                                                  Africa\n",
              "3       Philadelphia, Philadelphia County, Pennsylvani...\n",
              "4       London, Greater London, England, SW1A 2DX, Uni...\n",
              "                              ...                        \n",
              "5075                                                 تونس\n",
              "5076                                                  NaN\n",
              "5077    Vancouver, Metro Vancouver Regional District, ...\n",
              "5078    London, Greater London, England, SW1A 2DX, Uni...\n",
              "5079    Lincoln, Lincoln County, Washington, United St...\n",
              "Name: geolocation, Length: 5080, dtype: object>"
            ]
          },
          "metadata": {
            "tags": []
          },
          "execution_count": 3
        }
      ]
    },
    {
      "cell_type": "code",
      "metadata": {
        "id": "FCyk4bVPxWFK",
        "colab_type": "code",
        "outputId": "1a3b4bab-1510-4059-bc66-8c9673c16216",
        "colab": {
          "base_uri": "https://localhost:8080/",
          "height": 255
        }
      },
      "source": [
        "tweets.head"
      ],
      "execution_count": 0,
      "outputs": [
        {
          "output_type": "execute_result",
          "data": {
            "text/plain": [
              "<bound method NDFrame.head of       Unnamed: 0  ...                            point\n",
              "0             31  ...    (52.4796992, -1.9026911, 0.0)\n",
              "1             32  ...                              NaN\n",
              "2             33  ...    (11.5024338, 17.7578122, 0.0)\n",
              "3             34  ...   (39.9527237, -75.1635262, 0.0)\n",
              "4             35  ...    (51.5073219, -0.1276474, 0.0)\n",
              "...          ...  ...                              ...\n",
              "5075        7575  ...      (33.8439408, 9.400138, 0.0)\n",
              "5076        7577  ...                              NaN\n",
              "5077        7579  ...  (49.2608724, -123.1139529, 0.0)\n",
              "5078        7580  ...    (51.5073219, -0.1276474, 0.0)\n",
              "5079        7581  ...   (47.8299069, -118.414727, 0.0)\n",
              "\n",
              "[5080 rows x 8 columns]>"
            ]
          },
          "metadata": {
            "tags": []
          },
          "execution_count": 4
        }
      ]
    },
    {
      "cell_type": "code",
      "metadata": {
        "id": "Yjki5Zxmxc23",
        "colab_type": "code",
        "outputId": "a35bda2e-1e08-4132-a446-5594161f1393",
        "colab": {
          "base_uri": "https://localhost:8080/",
          "height": 221
        }
      },
      "source": [
        "tweets['geolocation']"
      ],
      "execution_count": 0,
      "outputs": [
        {
          "output_type": "execute_result",
          "data": {
            "text/plain": [
              "0       Birmingham, West Midlands Combined Authority, ...\n",
              "1                                                     NaN\n",
              "2                                                  Africa\n",
              "3       Philadelphia, Philadelphia County, Pennsylvani...\n",
              "4       London, Greater London, England, SW1A 2DX, Uni...\n",
              "                              ...                        \n",
              "5075                                                 تونس\n",
              "5076                                                  NaN\n",
              "5077    Vancouver, Metro Vancouver Regional District, ...\n",
              "5078    London, Greater London, England, SW1A 2DX, Uni...\n",
              "5079    Lincoln, Lincoln County, Washington, United St...\n",
              "Name: geolocation, Length: 5080, dtype: object"
            ]
          },
          "metadata": {
            "tags": []
          },
          "execution_count": 5
        }
      ]
    },
    {
      "cell_type": "code",
      "metadata": {
        "id": "I3SKuBwRxlhi",
        "colab_type": "code",
        "outputId": "d093a074-3729-46d0-894a-79d740ced294",
        "colab": {
          "base_uri": "https://localhost:8080/",
          "height": 221
        }
      },
      "source": [
        "locaciones = tweets['geolocation'].str.split(', ').dropna()\n",
        "locaciones"
      ],
      "execution_count": 0,
      "outputs": [
        {
          "output_type": "execute_result",
          "data": {
            "text/plain": [
              "0       [Birmingham, West Midlands Combined Authority,...\n",
              "2                                                [Africa]\n",
              "3       [Philadelphia, Philadelphia County, Pennsylvan...\n",
              "4       [London, Greater London, England, SW1A 2DX, Un...\n",
              "5       [Pretoria, City of Tshwane Metropolitan Munici...\n",
              "                              ...                        \n",
              "5074    [Global, Barber Greene Road, Don Mills, Don Va...\n",
              "5075                                               [تونس]\n",
              "5077    [Vancouver, Metro Vancouver Regional District,...\n",
              "5078    [London, Greater London, England, SW1A 2DX, Un...\n",
              "5079    [Lincoln, Lincoln County, Washington, United S...\n",
              "Name: geolocation, Length: 4083, dtype: object"
            ]
          },
          "metadata": {
            "tags": []
          },
          "execution_count": 6
        }
      ]
    },
    {
      "cell_type": "code",
      "metadata": {
        "id": "a2X-GoUu2CB_",
        "colab_type": "code",
        "outputId": "0806bf38-d762-4606-9416-bdc814b84ad9",
        "colab": {
          "base_uri": "https://localhost:8080/",
          "height": 606
        }
      },
      "source": [
        "tweets['paises']=locaciones.map(itemgetter(-1))\n",
        "tweets"
      ],
      "execution_count": 0,
      "outputs": [
        {
          "output_type": "execute_result",
          "data": {
            "text/html": [
              "<div>\n",
              "<style scoped>\n",
              "    .dataframe tbody tr th:only-of-type {\n",
              "        vertical-align: middle;\n",
              "    }\n",
              "\n",
              "    .dataframe tbody tr th {\n",
              "        vertical-align: top;\n",
              "    }\n",
              "\n",
              "    .dataframe thead th {\n",
              "        text-align: right;\n",
              "    }\n",
              "</style>\n",
              "<table border=\"1\" class=\"dataframe\">\n",
              "  <thead>\n",
              "    <tr style=\"text-align: right;\">\n",
              "      <th></th>\n",
              "      <th>Unnamed: 0</th>\n",
              "      <th>id</th>\n",
              "      <th>keyword</th>\n",
              "      <th>location</th>\n",
              "      <th>text</th>\n",
              "      <th>target</th>\n",
              "      <th>geolocation</th>\n",
              "      <th>point</th>\n",
              "      <th>paises</th>\n",
              "    </tr>\n",
              "  </thead>\n",
              "  <tbody>\n",
              "    <tr>\n",
              "      <th>0</th>\n",
              "      <td>31</td>\n",
              "      <td>48</td>\n",
              "      <td>ablaze</td>\n",
              "      <td>Birmingham</td>\n",
              "      <td>@bbcmtd Wholesale Markets ablaze http://t.co/l...</td>\n",
              "      <td>1</td>\n",
              "      <td>Birmingham, West Midlands Combined Authority, ...</td>\n",
              "      <td>(52.4796992, -1.9026911, 0.0)</td>\n",
              "      <td>United Kingdom</td>\n",
              "    </tr>\n",
              "    <tr>\n",
              "      <th>1</th>\n",
              "      <td>32</td>\n",
              "      <td>49</td>\n",
              "      <td>ablaze</td>\n",
              "      <td>Est. September 2012 - Bristol</td>\n",
              "      <td>We always try to bring the heavy. #metal #RT h...</td>\n",
              "      <td>0</td>\n",
              "      <td>NaN</td>\n",
              "      <td>NaN</td>\n",
              "      <td>NaN</td>\n",
              "    </tr>\n",
              "    <tr>\n",
              "      <th>2</th>\n",
              "      <td>33</td>\n",
              "      <td>50</td>\n",
              "      <td>ablaze</td>\n",
              "      <td>AFRICA</td>\n",
              "      <td>#AFRICANBAZE: Breaking news:Nigeria flag set a...</td>\n",
              "      <td>1</td>\n",
              "      <td>Africa</td>\n",
              "      <td>(11.5024338, 17.7578122, 0.0)</td>\n",
              "      <td>Africa</td>\n",
              "    </tr>\n",
              "    <tr>\n",
              "      <th>3</th>\n",
              "      <td>34</td>\n",
              "      <td>52</td>\n",
              "      <td>ablaze</td>\n",
              "      <td>Philadelphia, PA</td>\n",
              "      <td>Crying out for more! Set me ablaze</td>\n",
              "      <td>0</td>\n",
              "      <td>Philadelphia, Philadelphia County, Pennsylvani...</td>\n",
              "      <td>(39.9527237, -75.1635262, 0.0)</td>\n",
              "      <td>United States of America</td>\n",
              "    </tr>\n",
              "    <tr>\n",
              "      <th>4</th>\n",
              "      <td>35</td>\n",
              "      <td>53</td>\n",
              "      <td>ablaze</td>\n",
              "      <td>London, UK</td>\n",
              "      <td>On plus side LOOK AT THE SKY LAST NIGHT IT WAS...</td>\n",
              "      <td>0</td>\n",
              "      <td>London, Greater London, England, SW1A 2DX, Uni...</td>\n",
              "      <td>(51.5073219, -0.1276474, 0.0)</td>\n",
              "      <td>United Kingdom</td>\n",
              "    </tr>\n",
              "    <tr>\n",
              "      <th>...</th>\n",
              "      <td>...</td>\n",
              "      <td>...</td>\n",
              "      <td>...</td>\n",
              "      <td>...</td>\n",
              "      <td>...</td>\n",
              "      <td>...</td>\n",
              "      <td>...</td>\n",
              "      <td>...</td>\n",
              "      <td>...</td>\n",
              "    </tr>\n",
              "    <tr>\n",
              "      <th>5075</th>\n",
              "      <td>7575</td>\n",
              "      <td>10826</td>\n",
              "      <td>wrecked</td>\n",
              "      <td>TN</td>\n",
              "      <td>On the bright side I wrecked http://t.co/uEa0t...</td>\n",
              "      <td>0</td>\n",
              "      <td>تونس</td>\n",
              "      <td>(33.8439408, 9.400138, 0.0)</td>\n",
              "      <td>تونس</td>\n",
              "    </tr>\n",
              "    <tr>\n",
              "      <th>5076</th>\n",
              "      <td>7577</td>\n",
              "      <td>10829</td>\n",
              "      <td>wrecked</td>\n",
              "      <td>#NewcastleuponTyne #UK</td>\n",
              "      <td>@widda16 ... He's gone. You can relax. I thoug...</td>\n",
              "      <td>0</td>\n",
              "      <td>NaN</td>\n",
              "      <td>NaN</td>\n",
              "      <td>NaN</td>\n",
              "    </tr>\n",
              "    <tr>\n",
              "      <th>5077</th>\n",
              "      <td>7579</td>\n",
              "      <td>10831</td>\n",
              "      <td>wrecked</td>\n",
              "      <td>Vancouver, Canada</td>\n",
              "      <td>Three days off from work and they've pretty mu...</td>\n",
              "      <td>0</td>\n",
              "      <td>Vancouver, Metro Vancouver Regional District, ...</td>\n",
              "      <td>(49.2608724, -123.1139529, 0.0)</td>\n",
              "      <td>Canada</td>\n",
              "    </tr>\n",
              "    <tr>\n",
              "      <th>5078</th>\n",
              "      <td>7580</td>\n",
              "      <td>10832</td>\n",
              "      <td>wrecked</td>\n",
              "      <td>London</td>\n",
              "      <td>#FX #forex #trading Cramer: Iger's 3 words tha...</td>\n",
              "      <td>0</td>\n",
              "      <td>London, Greater London, England, SW1A 2DX, Uni...</td>\n",
              "      <td>(51.5073219, -0.1276474, 0.0)</td>\n",
              "      <td>United Kingdom</td>\n",
              "    </tr>\n",
              "    <tr>\n",
              "      <th>5079</th>\n",
              "      <td>7581</td>\n",
              "      <td>10833</td>\n",
              "      <td>wrecked</td>\n",
              "      <td>Lincoln</td>\n",
              "      <td>@engineshed Great atmosphere at the British Li...</td>\n",
              "      <td>0</td>\n",
              "      <td>Lincoln, Lincoln County, Washington, United St...</td>\n",
              "      <td>(47.8299069, -118.414727, 0.0)</td>\n",
              "      <td>United States of America</td>\n",
              "    </tr>\n",
              "  </tbody>\n",
              "</table>\n",
              "<p>5080 rows × 9 columns</p>\n",
              "</div>"
            ],
            "text/plain": [
              "      Unnamed: 0  ...                    paises\n",
              "0             31  ...            United Kingdom\n",
              "1             32  ...                       NaN\n",
              "2             33  ...                    Africa\n",
              "3             34  ...  United States of America\n",
              "4             35  ...            United Kingdom\n",
              "...          ...  ...                       ...\n",
              "5075        7575  ...                      تونس\n",
              "5076        7577  ...                       NaN\n",
              "5077        7579  ...                    Canada\n",
              "5078        7580  ...            United Kingdom\n",
              "5079        7581  ...  United States of America\n",
              "\n",
              "[5080 rows x 9 columns]"
            ]
          },
          "metadata": {
            "tags": []
          },
          "execution_count": 7
        }
      ]
    },
    {
      "cell_type": "code",
      "metadata": {
        "id": "sB5mYyy58hhI",
        "colab_type": "code",
        "outputId": "146ee93c-65ce-4872-ab7f-fcf92a64292c",
        "colab": {
          "base_uri": "https://localhost:8080/",
          "height": 34
        }
      },
      "source": [
        "paises = tweets.groupby('paises').count()\n",
        "paises['location'].idxmax()"
      ],
      "execution_count": 0,
      "outputs": [
        {
          "output_type": "execute_result",
          "data": {
            "text/plain": [
              "'United States of America'"
            ]
          },
          "metadata": {
            "tags": []
          },
          "execution_count": 8
        }
      ]
    },
    {
      "cell_type": "code",
      "metadata": {
        "id": "D3LuxNJN_7bI",
        "colab_type": "code",
        "outputId": "8612ed8e-5f25-44ff-99c0-a22e18e14bb2",
        "colab": {
          "base_uri": "https://localhost:8080/",
          "height": 34
        }
      },
      "source": [
        "paises['location'].max()"
      ],
      "execution_count": 0,
      "outputs": [
        {
          "output_type": "execute_result",
          "data": {
            "text/plain": [
              "1914"
            ]
          },
          "metadata": {
            "tags": []
          },
          "execution_count": 9
        }
      ]
    },
    {
      "cell_type": "code",
      "metadata": {
        "id": "jVmAqkypAMty",
        "colab_type": "code",
        "outputId": "aa373257-7047-4ccd-ccab-36a4ac61d665",
        "colab": {
          "base_uri": "https://localhost:8080/",
          "height": 450
        }
      },
      "source": [
        "paises = paises.sort_values(by=['location'], ascending=False)\n",
        "paises"
      ],
      "execution_count": 0,
      "outputs": [
        {
          "output_type": "execute_result",
          "data": {
            "text/html": [
              "<div>\n",
              "<style scoped>\n",
              "    .dataframe tbody tr th:only-of-type {\n",
              "        vertical-align: middle;\n",
              "    }\n",
              "\n",
              "    .dataframe tbody tr th {\n",
              "        vertical-align: top;\n",
              "    }\n",
              "\n",
              "    .dataframe thead th {\n",
              "        text-align: right;\n",
              "    }\n",
              "</style>\n",
              "<table border=\"1\" class=\"dataframe\">\n",
              "  <thead>\n",
              "    <tr style=\"text-align: right;\">\n",
              "      <th></th>\n",
              "      <th>Unnamed: 0</th>\n",
              "      <th>id</th>\n",
              "      <th>keyword</th>\n",
              "      <th>location</th>\n",
              "      <th>text</th>\n",
              "      <th>target</th>\n",
              "      <th>geolocation</th>\n",
              "      <th>point</th>\n",
              "    </tr>\n",
              "    <tr>\n",
              "      <th>paises</th>\n",
              "      <th></th>\n",
              "      <th></th>\n",
              "      <th></th>\n",
              "      <th></th>\n",
              "      <th></th>\n",
              "      <th></th>\n",
              "      <th></th>\n",
              "      <th></th>\n",
              "    </tr>\n",
              "  </thead>\n",
              "  <tbody>\n",
              "    <tr>\n",
              "      <th>United States of America</th>\n",
              "      <td>1914</td>\n",
              "      <td>1914</td>\n",
              "      <td>1914</td>\n",
              "      <td>1914</td>\n",
              "      <td>1914</td>\n",
              "      <td>1914</td>\n",
              "      <td>1914</td>\n",
              "      <td>1914</td>\n",
              "    </tr>\n",
              "    <tr>\n",
              "      <th>United Kingdom</th>\n",
              "      <td>465</td>\n",
              "      <td>465</td>\n",
              "      <td>465</td>\n",
              "      <td>465</td>\n",
              "      <td>465</td>\n",
              "      <td>465</td>\n",
              "      <td>465</td>\n",
              "      <td>465</td>\n",
              "    </tr>\n",
              "    <tr>\n",
              "      <th>Canada</th>\n",
              "      <td>262</td>\n",
              "      <td>262</td>\n",
              "      <td>262</td>\n",
              "      <td>262</td>\n",
              "      <td>262</td>\n",
              "      <td>262</td>\n",
              "      <td>262</td>\n",
              "      <td>262</td>\n",
              "    </tr>\n",
              "    <tr>\n",
              "      <th>United States</th>\n",
              "      <td>171</td>\n",
              "      <td>171</td>\n",
              "      <td>171</td>\n",
              "      <td>171</td>\n",
              "      <td>171</td>\n",
              "      <td>171</td>\n",
              "      <td>171</td>\n",
              "      <td>171</td>\n",
              "    </tr>\n",
              "    <tr>\n",
              "      <th>Australia</th>\n",
              "      <td>121</td>\n",
              "      <td>121</td>\n",
              "      <td>121</td>\n",
              "      <td>121</td>\n",
              "      <td>121</td>\n",
              "      <td>121</td>\n",
              "      <td>121</td>\n",
              "      <td>121</td>\n",
              "    </tr>\n",
              "    <tr>\n",
              "      <th>...</th>\n",
              "      <td>...</td>\n",
              "      <td>...</td>\n",
              "      <td>...</td>\n",
              "      <td>...</td>\n",
              "      <td>...</td>\n",
              "      <td>...</td>\n",
              "      <td>...</td>\n",
              "      <td>...</td>\n",
              "    </tr>\n",
              "    <tr>\n",
              "      <th>Cameroun</th>\n",
              "      <td>1</td>\n",
              "      <td>1</td>\n",
              "      <td>1</td>\n",
              "      <td>1</td>\n",
              "      <td>1</td>\n",
              "      <td>1</td>\n",
              "      <td>1</td>\n",
              "      <td>1</td>\n",
              "    </tr>\n",
              "    <tr>\n",
              "      <th>Бългaрия</th>\n",
              "      <td>1</td>\n",
              "      <td>1</td>\n",
              "      <td>1</td>\n",
              "      <td>1</td>\n",
              "      <td>1</td>\n",
              "      <td>1</td>\n",
              "      <td>1</td>\n",
              "      <td>1</td>\n",
              "    </tr>\n",
              "    <tr>\n",
              "      <th>България</th>\n",
              "      <td>1</td>\n",
              "      <td>1</td>\n",
              "      <td>1</td>\n",
              "      <td>1</td>\n",
              "      <td>1</td>\n",
              "      <td>1</td>\n",
              "      <td>1</td>\n",
              "      <td>1</td>\n",
              "    </tr>\n",
              "    <tr>\n",
              "      <th>Sūriyya سوريا</th>\n",
              "      <td>1</td>\n",
              "      <td>1</td>\n",
              "      <td>1</td>\n",
              "      <td>1</td>\n",
              "      <td>1</td>\n",
              "      <td>1</td>\n",
              "      <td>1</td>\n",
              "      <td>1</td>\n",
              "    </tr>\n",
              "    <tr>\n",
              "      <th>North America</th>\n",
              "      <td>1</td>\n",
              "      <td>1</td>\n",
              "      <td>1</td>\n",
              "      <td>1</td>\n",
              "      <td>1</td>\n",
              "      <td>1</td>\n",
              "      <td>1</td>\n",
              "      <td>1</td>\n",
              "    </tr>\n",
              "  </tbody>\n",
              "</table>\n",
              "<p>145 rows × 8 columns</p>\n",
              "</div>"
            ],
            "text/plain": [
              "                          Unnamed: 0    id  keyword  ...  target  geolocation  point\n",
              "paises                                               ...                            \n",
              "United States of America        1914  1914     1914  ...    1914         1914   1914\n",
              "United Kingdom                   465   465      465  ...     465          465    465\n",
              "Canada                           262   262      262  ...     262          262    262\n",
              "United States                    171   171      171  ...     171          171    171\n",
              "Australia                        121   121      121  ...     121          121    121\n",
              "...                              ...   ...      ...  ...     ...          ...    ...\n",
              "Cameroun                           1     1        1  ...       1            1      1\n",
              "Бългaрия                           1     1        1  ...       1            1      1\n",
              "България                           1     1        1  ...       1            1      1\n",
              "Sūriyya سوريا                      1     1        1  ...       1            1      1\n",
              "North America                      1     1        1  ...       1            1      1\n",
              "\n",
              "[145 rows x 8 columns]"
            ]
          },
          "metadata": {
            "tags": []
          },
          "execution_count": 10
        }
      ]
    },
    {
      "cell_type": "code",
      "metadata": {
        "id": "EvJNLGYbAw-R",
        "colab_type": "code",
        "outputId": "043f8dc2-b673-4d53-a04c-8f81ebf2b912",
        "colab": {
          "base_uri": "https://localhost:8080/",
          "height": 328
        }
      },
      "source": [
        "TopCountries=paises.loc[:,['location']].head(8)\n",
        "TopCountries"
      ],
      "execution_count": 0,
      "outputs": [
        {
          "output_type": "execute_result",
          "data": {
            "text/html": [
              "<div>\n",
              "<style scoped>\n",
              "    .dataframe tbody tr th:only-of-type {\n",
              "        vertical-align: middle;\n",
              "    }\n",
              "\n",
              "    .dataframe tbody tr th {\n",
              "        vertical-align: top;\n",
              "    }\n",
              "\n",
              "    .dataframe thead th {\n",
              "        text-align: right;\n",
              "    }\n",
              "</style>\n",
              "<table border=\"1\" class=\"dataframe\">\n",
              "  <thead>\n",
              "    <tr style=\"text-align: right;\">\n",
              "      <th></th>\n",
              "      <th>location</th>\n",
              "    </tr>\n",
              "    <tr>\n",
              "      <th>paises</th>\n",
              "      <th></th>\n",
              "    </tr>\n",
              "  </thead>\n",
              "  <tbody>\n",
              "    <tr>\n",
              "      <th>United States of America</th>\n",
              "      <td>1914</td>\n",
              "    </tr>\n",
              "    <tr>\n",
              "      <th>United Kingdom</th>\n",
              "      <td>465</td>\n",
              "    </tr>\n",
              "    <tr>\n",
              "      <th>Canada</th>\n",
              "      <td>262</td>\n",
              "    </tr>\n",
              "    <tr>\n",
              "      <th>United States</th>\n",
              "      <td>171</td>\n",
              "    </tr>\n",
              "    <tr>\n",
              "      <th>Australia</th>\n",
              "      <td>121</td>\n",
              "    </tr>\n",
              "    <tr>\n",
              "      <th>India</th>\n",
              "      <td>112</td>\n",
              "    </tr>\n",
              "    <tr>\n",
              "      <th>Nigeria</th>\n",
              "      <td>72</td>\n",
              "    </tr>\n",
              "    <tr>\n",
              "      <th>France</th>\n",
              "      <td>47</td>\n",
              "    </tr>\n",
              "  </tbody>\n",
              "</table>\n",
              "</div>"
            ],
            "text/plain": [
              "                          location\n",
              "paises                            \n",
              "United States of America      1914\n",
              "United Kingdom                 465\n",
              "Canada                         262\n",
              "United States                  171\n",
              "Australia                      121\n",
              "India                          112\n",
              "Nigeria                         72\n",
              "France                          47"
            ]
          },
          "metadata": {
            "tags": []
          },
          "execution_count": 11
        }
      ]
    },
    {
      "cell_type": "code",
      "metadata": {
        "id": "SoA_icKSDyHe",
        "colab_type": "code",
        "outputId": "2cf6cef8-dabe-4604-bd8f-f0bb635fceb0",
        "colab": {
          "base_uri": "https://localhost:8080/",
          "height": 297
        }
      },
      "source": [
        "TopCountries.loc['United States of America',['location']]=TopCountries.loc['United States of America',['location']]\\\n",
        "                                                          +TopCountries.loc['United States',['location']]\n",
        "TopCountries = TopCountries.drop('United States')\n",
        "TopCountries"
      ],
      "execution_count": 0,
      "outputs": [
        {
          "output_type": "execute_result",
          "data": {
            "text/html": [
              "<div>\n",
              "<style scoped>\n",
              "    .dataframe tbody tr th:only-of-type {\n",
              "        vertical-align: middle;\n",
              "    }\n",
              "\n",
              "    .dataframe tbody tr th {\n",
              "        vertical-align: top;\n",
              "    }\n",
              "\n",
              "    .dataframe thead th {\n",
              "        text-align: right;\n",
              "    }\n",
              "</style>\n",
              "<table border=\"1\" class=\"dataframe\">\n",
              "  <thead>\n",
              "    <tr style=\"text-align: right;\">\n",
              "      <th></th>\n",
              "      <th>location</th>\n",
              "    </tr>\n",
              "    <tr>\n",
              "      <th>paises</th>\n",
              "      <th></th>\n",
              "    </tr>\n",
              "  </thead>\n",
              "  <tbody>\n",
              "    <tr>\n",
              "      <th>United States of America</th>\n",
              "      <td>2085</td>\n",
              "    </tr>\n",
              "    <tr>\n",
              "      <th>United Kingdom</th>\n",
              "      <td>465</td>\n",
              "    </tr>\n",
              "    <tr>\n",
              "      <th>Canada</th>\n",
              "      <td>262</td>\n",
              "    </tr>\n",
              "    <tr>\n",
              "      <th>Australia</th>\n",
              "      <td>121</td>\n",
              "    </tr>\n",
              "    <tr>\n",
              "      <th>India</th>\n",
              "      <td>112</td>\n",
              "    </tr>\n",
              "    <tr>\n",
              "      <th>Nigeria</th>\n",
              "      <td>72</td>\n",
              "    </tr>\n",
              "    <tr>\n",
              "      <th>France</th>\n",
              "      <td>47</td>\n",
              "    </tr>\n",
              "  </tbody>\n",
              "</table>\n",
              "</div>"
            ],
            "text/plain": [
              "                          location\n",
              "paises                            \n",
              "United States of America      2085\n",
              "United Kingdom                 465\n",
              "Canada                         262\n",
              "Australia                      121\n",
              "India                          112\n",
              "Nigeria                         72\n",
              "France                          47"
            ]
          },
          "metadata": {
            "tags": []
          },
          "execution_count": 12
        }
      ]
    },
    {
      "cell_type": "code",
      "metadata": {
        "id": "RT6LDZXcxmXf",
        "colab_type": "code",
        "colab": {}
      },
      "source": [
        "TopCountries.reset_index(inplace=True)\n"
      ],
      "execution_count": 0,
      "outputs": []
    },
    {
      "cell_type": "code",
      "metadata": {
        "id": "izFadaBDKStP",
        "colab_type": "code",
        "outputId": "a4503070-db69-4def-af30-889d3daee576",
        "colab": {
          "base_uri": "https://localhost:8080/",
          "height": 153
        }
      },
      "source": [
        "TopCountries['paises'].astype('string')"
      ],
      "execution_count": 0,
      "outputs": [
        {
          "output_type": "execute_result",
          "data": {
            "text/plain": [
              "0    United States of America\n",
              "1              United Kingdom\n",
              "2                      Canada\n",
              "3                   Australia\n",
              "4                       India\n",
              "5                     Nigeria\n",
              "6                      France\n",
              "Name: paises, dtype: string"
            ]
          },
          "metadata": {
            "tags": []
          },
          "execution_count": 14
        }
      ]
    },
    {
      "cell_type": "code",
      "metadata": {
        "id": "L3xeT0z6NGe3",
        "colab_type": "code",
        "outputId": "c3afaa85-4e86-4606-a3f9-84924de4a8b8",
        "colab": {
          "base_uri": "https://localhost:8080/",
          "height": 153
        }
      },
      "source": [
        "TopCountries['location']\n"
      ],
      "execution_count": 0,
      "outputs": [
        {
          "output_type": "execute_result",
          "data": {
            "text/plain": [
              "0    2085\n",
              "1     465\n",
              "2     262\n",
              "3     121\n",
              "4     112\n",
              "5      72\n",
              "6      47\n",
              "Name: location, dtype: int64"
            ]
          },
          "metadata": {
            "tags": []
          },
          "execution_count": 15
        }
      ]
    },
    {
      "cell_type": "code",
      "metadata": {
        "id": "CdAF9YCIHNQh",
        "colab_type": "code",
        "outputId": "5ee0569d-9d57-41cd-f9bf-90f3dd1217e5",
        "colab": {
          "base_uri": "https://localhost:8080/",
          "height": 153
        }
      },
      "source": [
        "labels=TopCountries['paises'].astype('string')\n",
        "proporciones=TopCountries['location']/50\n",
        "labels"
      ],
      "execution_count": 0,
      "outputs": [
        {
          "output_type": "execute_result",
          "data": {
            "text/plain": [
              "0    United States of America\n",
              "1              United Kingdom\n",
              "2                      Canada\n",
              "3                   Australia\n",
              "4                       India\n",
              "5                     Nigeria\n",
              "6                      France\n",
              "Name: paises, dtype: string"
            ]
          },
          "metadata": {
            "tags": []
          },
          "execution_count": 16
        }
      ]
    },
    {
      "cell_type": "code",
      "metadata": {
        "id": "N0oTP_b9L8j2",
        "colab_type": "code",
        "outputId": "9f28d6b9-b6bd-4800-9264-92658502e38e",
        "colab": {
          "base_uri": "https://localhost:8080/",
          "height": 612
        }
      },
      "source": [
        "plt.figure(figsize=(15,10))\n",
        "squarify.plot(label=labels,sizes=proporciones, alpha=.9)\n",
        "plt.title(\"Principales paises de origen de los tweets\", fontsize=20)\n",
        "plt.show()"
      ],
      "execution_count": 37,
      "outputs": [
        {
          "output_type": "display_data",
          "data": {
            "image/png": "[encoded data removed]",
            "text/plain": [
              "<Figure size 1080x720 with 1 Axes>"
            ]
          },
          "metadata": {
            "tags": [],
            "needs_background": "light"
          }
        }
      ]
    }
  ]
}