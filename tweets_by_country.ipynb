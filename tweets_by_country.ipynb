{
 "cells": [
  {
   "cell_type": "markdown",
   "metadata": {},
   "source": [
    "Debajo, se importan los tweets y se les agrega un campo nuevo 'longitud'"
   ]
  },
  {
   "cell_type": "code",
   "execution_count": null,
   "metadata": {
    "colab": {},
    "colab_type": "code",
    "id": "0V1k7mDLiIan",
    "scrolled": true
   },
   "outputs": [],
   "source": [
    "import pandas as pd\n",
    "import numpy as np\n",
    "import seaborn as sns\n",
    "import matplotlib.pyplot as plt\n",
    "#import geopy as gp\n",
    "from geopy.geocoders import Nominatim\n",
    "from geopy.extra.rate_limiter import RateLimiter\n",
    "import datetime\n",
    "\n",
    "%pylab inline\n",
    "\n",
    "tweets = pd.read_csv('train.csv', encoding='latin-1')\n",
    "tweets['longitud'] = tweets['text'].str.len()\n",
    "tweets.head(10)"
   ]
  },
  {
   "cell_type": "markdown",
   "metadata": {},
   "source": [
    "Ahora tomamos los tweets reales, como muestra para demostrar el desarrollo del algoritmo y los problemas encontrados\n",
    "Luego se hará el mismo procesamiento pero para todos los tweets cuya \"location\" no sea nula"
   ]
  },
  {
   "cell_type": "code",
   "execution_count": null,
   "metadata": {},
   "outputs": [],
   "source": [
    "true_tweets = tweets[tweets.target==1]"
   ]
  },
  {
   "cell_type": "code",
   "execution_count": null,
   "metadata": {},
   "outputs": [],
   "source": [
    "true_tweets.count()"
   ]
  },
  {
   "cell_type": "markdown",
   "metadata": {},
   "source": [
    "Ahora, de esos tweets reales, se toman los que tengan datos de localización"
   ]
  },
  {
   "cell_type": "code",
   "execution_count": null,
   "metadata": {},
   "outputs": [],
   "source": [
    "true_tweets_with_loc = true_tweets[true_tweets.location.isnull()==False]"
   ]
  },
  {
   "cell_type": "code",
   "execution_count": null,
   "metadata": {},
   "outputs": [],
   "source": [
    "true_tweets_with_loc.info()"
   ]
  },
  {
   "cell_type": "code",
   "execution_count": null,
   "metadata": {},
   "outputs": [],
   "source": [
    "true_tweets_with_loc_sub = true_tweets_with_loc.head(10)\n",
    "geolocator = Nominatim(user_agent = \"TP1 1C2020 7506 FIUBA - Barbijo_de_uranio\")\n",
    "geocode = RateLimiter(geolocator.geocode, min_delay_seconds = 0.1)\n",
    "true_tweets_with_loc_sub = true_tweets_with_loc_sub.assign(geolocation = true_tweets_with_loc_sub['location'].\\\n",
    "                                                           apply(geocode))"
   ]
  },
  {
   "cell_type": "code",
   "execution_count": null,
   "metadata": {},
   "outputs": [],
   "source": [
    "true_tweets_with_loc_sub"
   ]
  },
  {
   "cell_type": "code",
   "execution_count": null,
   "metadata": {},
   "outputs": [],
   "source": [
    "true_tweets_with_loc_sub = true_tweets_with_loc_sub[true_tweets_with_loc_sub.geolocation.isnull()==False]\n",
    "true_tweets_with_loc_sub"
   ]
  },
  {
   "cell_type": "code",
   "execution_count": null,
   "metadata": {},
   "outputs": [],
   "source": [
    "true_tweets_with_loc_sub.info()"
   ]
  },
  {
   "cell_type": "markdown",
   "metadata": {},
   "source": [
    "Ahora se arma una lista de países, tomando el campo \"address\" de cada geolocalización"
   ]
  },
  {
   "cell_type": "code",
   "execution_count": null,
   "metadata": {},
   "outputs": [],
   "source": [
    "country_list = []\n",
    "for row in true_tweets_with_loc_sub.iterrows():\n",
    "    try:\n",
    "        country_list.append(geolocator.geocode(row[1].location).address.split(\", \")[-1])\n",
    "    except:\n",
    "        country_list.append(None)"
   ]
  },
  {
   "cell_type": "markdown",
   "metadata": {},
   "source": [
    "La lista de países así obtenida produce resultados distintos para un mismo país (ver caso de USA debajo)"
   ]
  },
  {
   "cell_type": "code",
   "execution_count": null,
   "metadata": {},
   "outputs": [],
   "source": [
    "country_list"
   ]
  },
  {
   "cell_type": "code",
   "execution_count": null,
   "metadata": {},
   "outputs": [],
   "source": [
    "true_tweets_with_loc_sub['country'] = country_list"
   ]
  },
  {
   "cell_type": "code",
   "execution_count": null,
   "metadata": {},
   "outputs": [],
   "source": [
    "true_tweets_with_loc_sub"
   ]
  },
  {
   "cell_type": "code",
   "execution_count": null,
   "metadata": {},
   "outputs": [],
   "source": [
    "true_tweets_with_loc_sub.reset_index(drop=True, inplace=True)\n",
    "true_tweets_with_loc_sub"
   ]
  },
  {
   "cell_type": "markdown",
   "metadata": {},
   "source": [
    "Debajo se ve que en vez de resultar 4 tweets de USA, hay 3 por un lado, y 1 por otro, ya que el \"país\" obtenido\n",
    "es distinto por cómo está cargado en el campo \"address\" de la geolocalizaicón correspondiente"
   ]
  },
  {
   "cell_type": "code",
   "execution_count": null,
   "metadata": {},
   "outputs": [],
   "source": [
    "true_tweets_with_loc_sub.country.value_counts()"
   ]
  },
  {
   "cell_type": "markdown",
   "metadata": {},
   "source": [
    "Para obtener un nombre de país único, se nota que convirtiendo la \"location\" a coordenadas primero, y luego\n",
    "haciendo un reverse lookup de esas coordenadas de la cual se extrae la \"address\" resultante, el país ahora\n",
    "sí tiene nombre único"
   ]
  },
  {
   "cell_type": "code",
   "execution_count": null,
   "metadata": {},
   "outputs": [],
   "source": [
    "lat_list = []\n",
    "long_list = []\n",
    "for row in true_tweets_with_loc_sub.iterrows():\n",
    "    try:\n",
    "        point = (geolocator.geocode(row[1].location))\n",
    "        lat_list.append(point.latitude)\n",
    "        long_list.append(point.longitude)\n",
    "    except:\n",
    "        lat_list.append(None)\n",
    "        long_list.append(None)"
   ]
  },
  {
   "cell_type": "code",
   "execution_count": null,
   "metadata": {},
   "outputs": [],
   "source": [
    "lat_list"
   ]
  },
  {
   "cell_type": "code",
   "execution_count": null,
   "metadata": {},
   "outputs": [],
   "source": [
    "long_list"
   ]
  },
  {
   "cell_type": "code",
   "execution_count": null,
   "metadata": {
    "scrolled": true
   },
   "outputs": [],
   "source": [
    "true_tweets_with_loc_sub['latitude'] = lat_list"
   ]
  },
  {
   "cell_type": "code",
   "execution_count": null,
   "metadata": {},
   "outputs": [],
   "source": [
    "true_tweets_with_loc_sub['longitude'] = long_list"
   ]
  },
  {
   "cell_type": "code",
   "execution_count": null,
   "metadata": {},
   "outputs": [],
   "source": [
    "true_tweets_with_loc_sub"
   ]
  },
  {
   "cell_type": "code",
   "execution_count": null,
   "metadata": {},
   "outputs": [],
   "source": [
    "true_tweets_with_loc_sub['coordinates'] = true_tweets_with_loc_sub['latitude'].astype('str') + ', ' +\\\n",
    "                                          true_tweets_with_loc_sub['longitude'].astype('str')"
   ]
  },
  {
   "cell_type": "code",
   "execution_count": null,
   "metadata": {},
   "outputs": [],
   "source": [
    "true_tweets_with_loc_sub"
   ]
  },
  {
   "cell_type": "code",
   "execution_count": null,
   "metadata": {},
   "outputs": [],
   "source": [
    "true_tweets_with_loc_sub['coordinates'][0]"
   ]
  },
  {
   "cell_type": "markdown",
   "metadata": {},
   "source": [
    "En el ejemplo debajo, se ve que ahora \"country\" en vez de ser \"United States\" como antes, ahora sí es \"United Sates of\n",
    "America\", lo cual hará que el conteo resulte 4 como debía ser"
   ]
  },
  {
   "cell_type": "code",
   "execution_count": null,
   "metadata": {},
   "outputs": [],
   "source": [
    "geolocator.reverse(true_tweets_with_loc_sub['coordinates'][7]).address.split(\", \")[-1]"
   ]
  },
  {
   "cell_type": "code",
   "execution_count": null,
   "metadata": {},
   "outputs": [],
   "source": [
    "country_from_coord_list = []\n",
    "for row in true_tweets_with_loc_sub.iterrows():\n",
    "    try:\n",
    "        country_from_coord_list.append(geolocator.reverse(\\\n",
    "                        row[1].coordinates).address.split(\", \")[-1])\n",
    "    except:\n",
    "        country_from_coord_list.append(None)"
   ]
  },
  {
   "cell_type": "code",
   "execution_count": null,
   "metadata": {},
   "outputs": [],
   "source": [
    "country_from_coord_list"
   ]
  },
  {
   "cell_type": "code",
   "execution_count": null,
   "metadata": {},
   "outputs": [],
   "source": [
    "true_tweets_with_loc_sub['country from coordinates'] = country_from_coord_list"
   ]
  },
  {
   "cell_type": "code",
   "execution_count": null,
   "metadata": {},
   "outputs": [],
   "source": [
    "true_tweets_with_loc_sub"
   ]
  },
  {
   "cell_type": "markdown",
   "metadata": {},
   "source": [
    "Ahora sí, la cuenta de países de la muestra da bien"
   ]
  },
  {
   "cell_type": "code",
   "execution_count": null,
   "metadata": {
    "scrolled": true
   },
   "outputs": [],
   "source": [
    "true_tweets_with_loc_sub['country from coordinates'].value_counts()"
   ]
  },
  {
   "cell_type": "markdown",
   "metadata": {},
   "source": [
    "# Ahora se hará el mismo procesamiento pero para todos los tweets cuya \"location\" no sea nula, independientemente de si los tweets son reales o falsos"
   ]
  },
  {
   "cell_type": "code",
   "execution_count": null,
   "metadata": {},
   "outputs": [],
   "source": [
    "tweets_with_loc = tweets[tweets.location.isnull()==False]"
   ]
  },
  {
   "cell_type": "code",
   "execution_count": null,
   "metadata": {},
   "outputs": [],
   "source": [
    "tweets_with_loc.reset_index(drop=True, inplace=True)\n",
    "tweets_with_loc.info()"
   ]
  },
  {
   "cell_type": "code",
   "execution_count": null,
   "metadata": {},
   "outputs": [],
   "source": [
    "tweets_with_loc.head(20)"
   ]
  },
  {
   "cell_type": "code",
   "execution_count": null,
   "metadata": {},
   "outputs": [],
   "source": [
    "print(datetime.datetime.now())"
   ]
  },
  {
   "cell_type": "markdown",
   "metadata": {},
   "source": [
    "Para obtener un nombre de país único, se nota que convirtiendo la \"location\" a coordenadas primero, y luego haciendo un reverse lookup de esas coordenadas de la cual se extrae la \"address\" resultante, el país ahora sí tiene nombre único"
   ]
  },
  {
   "cell_type": "code",
   "execution_count": null,
   "metadata": {},
   "outputs": [],
   "source": [
    "lat_list = []\n",
    "long_list = []\n",
    "for row in tweets_with_loc.iterrows():\n",
    "    try:\n",
    "        point = (geolocator.geocode(row[1].location))\n",
    "        lat_list.append(point.latitude)\n",
    "        long_list.append(point.longitude)\n",
    "    except:\n",
    "        lat_list.append(None)\n",
    "        long_list.append(None)"
   ]
  },
  {
   "cell_type": "code",
   "execution_count": null,
   "metadata": {},
   "outputs": [],
   "source": [
    "print(datetime.datetime.now())"
   ]
  },
  {
   "cell_type": "code",
   "execution_count": null,
   "metadata": {
    "scrolled": true
   },
   "outputs": [],
   "source": [
    "tweets_with_loc['latitude'] = lat_list"
   ]
  },
  {
   "cell_type": "code",
   "execution_count": null,
   "metadata": {},
   "outputs": [],
   "source": [
    "tweets_with_loc['longitude'] = long_list"
   ]
  },
  {
   "cell_type": "code",
   "execution_count": null,
   "metadata": {},
   "outputs": [],
   "source": [
    "tweets_with_loc.head(20)"
   ]
  },
  {
   "cell_type": "code",
   "execution_count": null,
   "metadata": {},
   "outputs": [],
   "source": [
    "tweets_with_loc['coordinates'] = tweets_with_loc['latitude'].astype('str') + ', ' +\\\n",
    "                                          tweets_with_loc['longitude'].astype('str')"
   ]
  },
  {
   "cell_type": "code",
   "execution_count": null,
   "metadata": {},
   "outputs": [],
   "source": [
    "tweets_with_loc"
   ]
  },
  {
   "cell_type": "code",
   "execution_count": null,
   "metadata": {},
   "outputs": [],
   "source": [
    "print(datetime.datetime.now())"
   ]
  },
  {
   "cell_type": "code",
   "execution_count": null,
   "metadata": {},
   "outputs": [],
   "source": [
    "country_from_coord_list = []\n",
    "for row in tweets_with_loc.iterrows():\n",
    "    try:\n",
    "        country_from_coord_list.append(geolocator.reverse(\\\n",
    "                        row[1].coordinates).address.split(\", \")[-1])\n",
    "    except:\n",
    "        country_from_coord_list.append(None)"
   ]
  },
  {
   "cell_type": "code",
   "execution_count": null,
   "metadata": {},
   "outputs": [],
   "source": [
    "print(datetime.datetime.now())"
   ]
  },
  {
   "cell_type": "code",
   "execution_count": null,
   "metadata": {},
   "outputs": [],
   "source": [
    "tweets_with_loc['country from coordinates'] = country_from_coord_list"
   ]
  },
  {
   "cell_type": "code",
   "execution_count": null,
   "metadata": {},
   "outputs": [],
   "source": [
    "tweets_with_loc"
   ]
  },
  {
   "cell_type": "markdown",
   "metadata": {},
   "source": [
    "Ahora se cuentan los países"
   ]
  },
  {
   "cell_type": "code",
   "execution_count": null,
   "metadata": {
    "scrolled": true
   },
   "outputs": [],
   "source": [
    "tweets_with_loc['country from coordinates'].value_counts()"
   ]
  },
  {
   "cell_type": "code",
   "execution_count": null,
   "metadata": {},
   "outputs": [],
   "source": [
    "tweets_with_loc.to_csv(r'F:\\Documentos\\Pablo\\facultad\\orga_de_datos\\TP1-mio\\tweets_with_loc.csv', index = False)"
   ]
  }
 ],
 "metadata": {
  "colab": {
   "collapsed_sections": [],
   "name": "Untitled0.ipynb",
   "provenance": []
  },
  "kernelspec": {
   "display_name": "Python 3",
   "language": "python",
   "name": "python3"
  },
  "language_info": {
   "codemirror_mode": {
    "name": "ipython",
    "version": 3
   },
   "file_extension": ".py",
   "mimetype": "text/x-python",
   "name": "python",
   "nbconvert_exporter": "python",
   "pygments_lexer": "ipython3",
   "version": "3.6.5"
  }
 },
 "nbformat": 4,
 "nbformat_minor": 4
}
