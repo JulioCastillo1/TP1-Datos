{
  "nbformat": 4,
  "nbformat_minor": 0,
  "metadata": {
    "kernelspec": {
      "display_name": "Python 3",
      "language": "python",
      "name": "python3"
    },
    "language_info": {
      "codemirror_mode": {
        "name": "ipython",
        "version": 3
      },
      "file_extension": ".py",
      "mimetype": "text/x-python",
      "name": "python",
      "nbconvert_exporter": "python",
      "pygments_lexer": "ipython3",
      "version": "3.7.7"
    },
    "colab": {
      "name": "Copia de Red convolucional.ipynb",
      "provenance": [],
      "include_colab_link": true
    }
  },
  "cells": [
    {
      "cell_type": "markdown",
      "metadata": {
        "id": "view-in-github",
        "colab_type": "text"
      },
      "source": [
        "<a href=\"https://colab.research.google.com/github/JulioCastillo1/TP1-Datos/blob/master/Copia_de_Red_convolucional.ipynb\" target=\"_parent\"><img src=\"https://colab.research.google.com/assets/colab-badge.svg\" alt=\"Open In Colab\"/></a>"
      ]
    },
    {
      "cell_type": "code",
      "metadata": {
        "id": "0wcmc7yo2Iaz",
        "colab_type": "code",
        "colab": {
          "base_uri": "https://localhost:8080/",
          "height": 86
        },
        "outputId": "49063f75-75b0-41b9-cde0-81e9a6eb309c"
      },
      "source": [
        "# ARRANCAMOS CON LO BÁSICO\n",
        "import numpy as np\n",
        "import tensorflow as tf\n",
        "import pandas as pd\n",
        "import random\n",
        "from google.colab import files\n",
        "\n",
        "!pip install -q tensorflow-hub\n",
        "!pip install -q tfds-nightly\n",
        "import tensorflow_hub as hub\n",
        "import tensorflow_datasets as tfds\n",
        "\n",
        "print(\"Version: \", tf.__version__)\n",
        "print(\"Eager mode: \", tf.executing_eagerly())\n",
        "print(\"Hub version: \", hub.__version__)\n",
        "print(\"GPU is\", \"available\" if tf.config.experimental.list_physical_devices(\"GPU\") else \"NOT AVAILABLE\")\n"
      ],
      "execution_count": null,
      "outputs": [
        {
          "output_type": "stream",
          "text": [
            "Version:  2.2.0\n",
            "Eager mode:  True\n",
            "Hub version:  0.8.0\n",
            "GPU is NOT AVAILABLE\n"
          ],
          "name": "stdout"
        }
      ]
    },
    {
      "cell_type": "code",
      "metadata": {
        "id": "2pHyci8dgDGq",
        "colab_type": "code",
        "colab": {
          "base_uri": "https://localhost:8080/",
          "height": 206
        },
        "outputId": "3d274c39-2e35-4749-9358-67acc0a7e940"
      },
      "source": [
        "# CARGAMOS LOS CSV\n",
        "url_train = 'https://raw.githubusercontent.com/JulioCastillo1/TP1-Datos/master/train.csv'\n",
        "url_test = 'https://raw.githubusercontent.com/francoriboratig/TP2-Datos/master/test.csv'\n",
        "\n",
        "train_tmp_df = pd.read_csv(url_train)\n",
        "test_df = pd.read_csv(url_test)\n",
        "train_tmp_df.head()"
      ],
      "execution_count": null,
      "outputs": [
        {
          "output_type": "execute_result",
          "data": {
            "text/html": [
              "<div>\n",
              "<style scoped>\n",
              "    .dataframe tbody tr th:only-of-type {\n",
              "        vertical-align: middle;\n",
              "    }\n",
              "\n",
              "    .dataframe tbody tr th {\n",
              "        vertical-align: top;\n",
              "    }\n",
              "\n",
              "    .dataframe thead th {\n",
              "        text-align: right;\n",
              "    }\n",
              "</style>\n",
              "<table border=\"1\" class=\"dataframe\">\n",
              "  <thead>\n",
              "    <tr style=\"text-align: right;\">\n",
              "      <th></th>\n",
              "      <th>id</th>\n",
              "      <th>keyword</th>\n",
              "      <th>location</th>\n",
              "      <th>text</th>\n",
              "      <th>target</th>\n",
              "    </tr>\n",
              "  </thead>\n",
              "  <tbody>\n",
              "    <tr>\n",
              "      <th>0</th>\n",
              "      <td>1</td>\n",
              "      <td>NaN</td>\n",
              "      <td>NaN</td>\n",
              "      <td>Our Deeds are the Reason of this #earthquake M...</td>\n",
              "      <td>1</td>\n",
              "    </tr>\n",
              "    <tr>\n",
              "      <th>1</th>\n",
              "      <td>4</td>\n",
              "      <td>NaN</td>\n",
              "      <td>NaN</td>\n",
              "      <td>Forest fire near La Ronge Sask. Canada</td>\n",
              "      <td>1</td>\n",
              "    </tr>\n",
              "    <tr>\n",
              "      <th>2</th>\n",
              "      <td>5</td>\n",
              "      <td>NaN</td>\n",
              "      <td>NaN</td>\n",
              "      <td>All residents asked to 'shelter in place' are ...</td>\n",
              "      <td>1</td>\n",
              "    </tr>\n",
              "    <tr>\n",
              "      <th>3</th>\n",
              "      <td>6</td>\n",
              "      <td>NaN</td>\n",
              "      <td>NaN</td>\n",
              "      <td>13,000 people receive #wildfires evacuation or...</td>\n",
              "      <td>1</td>\n",
              "    </tr>\n",
              "    <tr>\n",
              "      <th>4</th>\n",
              "      <td>7</td>\n",
              "      <td>NaN</td>\n",
              "      <td>NaN</td>\n",
              "      <td>Just got sent this photo from Ruby #Alaska as ...</td>\n",
              "      <td>1</td>\n",
              "    </tr>\n",
              "  </tbody>\n",
              "</table>\n",
              "</div>"
            ],
            "text/plain": [
              "   id keyword  ...                                               text target\n",
              "0   1     NaN  ...  Our Deeds are the Reason of this #earthquake M...      1\n",
              "1   4     NaN  ...             Forest fire near La Ronge Sask. Canada      1\n",
              "2   5     NaN  ...  All residents asked to 'shelter in place' are ...      1\n",
              "3   6     NaN  ...  13,000 people receive #wildfires evacuation or...      1\n",
              "4   7     NaN  ...  Just got sent this photo from Ruby #Alaska as ...      1\n",
              "\n",
              "[5 rows x 5 columns]"
            ]
          },
          "metadata": {
            "tags": []
          },
          "execution_count": 51
        }
      ]
    },
    {
      "cell_type": "code",
      "metadata": {
        "id": "IBxAXWFa0m5l",
        "colab_type": "code",
        "colab": {
          "base_uri": "https://localhost:8080/",
          "height": 34
        },
        "outputId": "4439421a-a8e2-466d-ddac-38e7aa33aeef"
      },
      "source": [
        "# LIMPIAMOS Y CHUSMEAMOS\n",
        "train_tmp_df = train_tmp_df.drop(['keyword', 'location'], axis = 1)\n",
        "train_tmp_df.head()\n",
        "train_tmp_df.shape"
      ],
      "execution_count": null,
      "outputs": [
        {
          "output_type": "execute_result",
          "data": {
            "text/plain": [
              "(7613, 3)"
            ]
          },
          "metadata": {
            "tags": []
          },
          "execution_count": 52
        }
      ]
    },
    {
      "cell_type": "code",
      "metadata": {
        "id": "IgP7Jo-zhsnW",
        "colab_type": "code",
        "colab": {
          "base_uri": "https://localhost:8080/",
          "height": 34
        },
        "outputId": "5d1354b2-33d5-4731-b24c-db93cf03ab97"
      },
      "source": [
        "# EXTRAEMOS UN SET DE VALIDACIÓN DEL 10%\n",
        "from sklearn.model_selection import train_test_split\n",
        "\n",
        "train_df, validation_df = train_test_split(train_tmp_df, test_size = 0.1)\n",
        "train_df.shape[0]"
      ],
      "execution_count": null,
      "outputs": [
        {
          "output_type": "execute_result",
          "data": {
            "text/plain": [
              "6090"
            ]
          },
          "metadata": {
            "tags": []
          },
          "execution_count": 70
        }
      ]
    },
    {
      "cell_type": "code",
      "metadata": {
        "id": "IPw8A0LX6FGP",
        "colab_type": "code",
        "colab": {
          "base_uri": "https://localhost:8080/",
          "height": 34
        },
        "outputId": "054efffc-6ec7-4b13-90bb-4821705be2d3"
      },
      "source": [
        "validation_df.shape[0]\n"
      ],
      "execution_count": null,
      "outputs": [
        {
          "output_type": "execute_result",
          "data": {
            "text/plain": [
              "1523"
            ]
          },
          "metadata": {
            "tags": []
          },
          "execution_count": 71
        }
      ]
    },
    {
      "cell_type": "code",
      "metadata": {
        "id": "Cw0HFe5EkJae",
        "colab_type": "code",
        "colab": {
          "base_uri": "https://localhost:8080/",
          "height": 260
        },
        "outputId": "df33ac1f-90bb-438c-ef04-7311aab9972d"
      },
      "source": [
        "# HACEMOS UN EMBEDDING PROVISTO POR UN \"TensorFlow Hub model\"\n",
        "\n",
        "embedding_url = \"https://tfhub.dev/google/tf2-preview/gnews-swivel-20dim/1\"\n",
        "\n",
        "hub_layer = hub.KerasLayer(embedding_url,\n",
        "                           input_shape = [], \n",
        "                           dtype = tf.string,\n",
        "                           trainable = True)\n",
        "\n",
        "train_text_list = np.asarray(train_df['text'])\n",
        "train_target_list = np.asarray(train_df['target'])\n",
        "\n",
        "hub_layer(train_text_list[:3])\n",
        "\n"
      ],
      "execution_count": null,
      "outputs": [
        {
          "output_type": "execute_result",
          "data": {
            "text/plain": [
              "<tf.Tensor: shape=(3, 20), dtype=float32, numpy=\n",
              "array([[-1.3130846 , -0.1299771 , -0.6460433 , -1.2813138 , -0.35637245,\n",
              "        -0.6728002 , -0.78708506, -1.2084562 , -0.69668853,  1.0260129 ,\n",
              "        -1.053807  ,  0.1985695 ,  0.7754305 ,  0.06631742,  0.75959885,\n",
              "        -0.1719684 , -1.8653511 ,  0.383707  ,  0.73699456,  0.091278  ],\n",
              "       [ 0.17786609,  0.05419118,  0.20797475,  0.43611705,  0.24940072,\n",
              "        -0.40636843, -1.0988255 ,  0.46651414,  0.38593405,  0.7438608 ,\n",
              "        -1.9111044 ,  0.890076  , -0.441046  , -0.5248492 , -1.5569504 ,\n",
              "         0.7120916 ,  0.33593795, -0.09674331, -1.0356532 ,  0.45747846],\n",
              "       [-0.7684545 , -0.3240194 , -0.4590403 , -0.78238493, -0.6346923 ,\n",
              "         0.84253484,  0.3933478 ,  0.3958523 , -0.12424278,  0.36349782,\n",
              "        -0.243992  , -0.09113774,  0.36228633, -0.17937404,  0.5450773 ,\n",
              "         0.85830885,  0.44275758, -0.47713774, -0.7886732 ,  0.7035698 ]],\n",
              "      dtype=float32)>"
            ]
          },
          "metadata": {
            "tags": []
          },
          "execution_count": 72
        }
      ]
    },
    {
      "cell_type": "code",
      "metadata": {
        "id": "pa9js3I9la4T",
        "colab_type": "code",
        "colab": {
          "base_uri": "https://localhost:8080/",
          "height": 295
        },
        "outputId": "731ec4ee-8893-42b1-c0d8-688efec1f323"
      },
      "source": [
        "# ARMAMOS EL MODELO\n",
        "model = tf.keras.Sequential()\n",
        "model.add(hub_layer)\n",
        "model.add(tf.keras.layers.Dense(16, activation = 'relu'))\n",
        "model.add(tf.keras.layers.Dense(16, activation = 'relu'))\n",
        "model.add(tf.keras.layers.Dense(1))\n",
        "\n",
        "model.summary()"
      ],
      "execution_count": null,
      "outputs": [
        {
          "output_type": "stream",
          "text": [
            "Model: \"sequential_6\"\n",
            "_________________________________________________________________\n",
            "Layer (type)                 Output Shape              Param #   \n",
            "=================================================================\n",
            "keras_layer_9 (KerasLayer)   (None, 20)                400020    \n",
            "_________________________________________________________________\n",
            "dense_20 (Dense)             (None, 16)                336       \n",
            "_________________________________________________________________\n",
            "dense_21 (Dense)             (None, 16)                272       \n",
            "_________________________________________________________________\n",
            "dense_22 (Dense)             (None, 1)                 17        \n",
            "=================================================================\n",
            "Total params: 400,645\n",
            "Trainable params: 400,645\n",
            "Non-trainable params: 0\n",
            "_________________________________________________________________\n"
          ],
          "name": "stdout"
        }
      ]
    },
    {
      "cell_type": "code",
      "metadata": {
        "id": "t31VOjJynfzN",
        "colab_type": "code",
        "colab": {
          "base_uri": "https://localhost:8080/",
          "height": 712
        },
        "outputId": "dc45fc18-ed05-4d6a-fd34-7f0ec3c41ef2"
      },
      "source": [
        "# COMPILAMOS Y ENTRENAMOS\n",
        "\n",
        "# NOTAS:\n",
        "# Con 20 epochs obtiene mejor resultado en Kaggle que con 30 porque overfitearía\n",
        "\n",
        "model.compile(optimizer = 'adam',\n",
        "              loss = tf.keras.losses.BinaryCrossentropy(from_logits = True),\n",
        "              metrics = ['accuracy'])\n",
        "\n",
        "history = model.fit(train_text_list, train_target_list, batch_size=512,\n",
        "                    epochs = 20,\n",
        "                    verbose = 1)"
      ],
      "execution_count": null,
      "outputs": [
        {
          "output_type": "stream",
          "text": [
            "Epoch 1/20\n",
            "12/12 [==============================] - 0s 11ms/step - loss: 0.7384 - accuracy: 0.5609\n",
            "Epoch 2/20\n",
            "12/12 [==============================] - 0s 10ms/step - loss: 0.6437 - accuracy: 0.5770\n",
            "Epoch 3/20\n",
            "12/12 [==============================] - 0s 10ms/step - loss: 0.5838 - accuracy: 0.6099\n",
            "Epoch 4/20\n",
            "12/12 [==============================] - 0s 11ms/step - loss: 0.5346 - accuracy: 0.6724\n",
            "Epoch 5/20\n",
            "12/12 [==============================] - 0s 10ms/step - loss: 0.4883 - accuracy: 0.7305\n",
            "Epoch 6/20\n",
            "12/12 [==============================] - 0s 10ms/step - loss: 0.4420 - accuracy: 0.7798\n",
            "Epoch 7/20\n",
            "12/12 [==============================] - 0s 11ms/step - loss: 0.3970 - accuracy: 0.8202\n",
            "Epoch 8/20\n",
            "12/12 [==============================] - 0s 11ms/step - loss: 0.3534 - accuracy: 0.8466\n",
            "Epoch 9/20\n",
            "12/12 [==============================] - 0s 10ms/step - loss: 0.3124 - accuracy: 0.8688\n",
            "Epoch 10/20\n",
            "12/12 [==============================] - 0s 11ms/step - loss: 0.2738 - accuracy: 0.8921\n",
            "Epoch 11/20\n",
            "12/12 [==============================] - 0s 11ms/step - loss: 0.2392 - accuracy: 0.9084\n",
            "Epoch 12/20\n",
            "12/12 [==============================] - 0s 11ms/step - loss: 0.2095 - accuracy: 0.9217\n",
            "Epoch 13/20\n",
            "12/12 [==============================] - 0s 11ms/step - loss: 0.1844 - accuracy: 0.9305\n",
            "Epoch 14/20\n",
            "12/12 [==============================] - 0s 11ms/step - loss: 0.1645 - accuracy: 0.9414\n",
            "Epoch 15/20\n",
            "12/12 [==============================] - 0s 11ms/step - loss: 0.1484 - accuracy: 0.9447\n",
            "Epoch 16/20\n",
            "12/12 [==============================] - 0s 11ms/step - loss: 0.1353 - accuracy: 0.9517\n",
            "Epoch 17/20\n",
            "12/12 [==============================] - 0s 11ms/step - loss: 0.1249 - accuracy: 0.9530\n",
            "Epoch 18/20\n",
            "12/12 [==============================] - 0s 12ms/step - loss: 0.1161 - accuracy: 0.9586\n",
            "Epoch 19/20\n",
            "12/12 [==============================] - 0s 11ms/step - loss: 0.1091 - accuracy: 0.9596\n",
            "Epoch 20/20\n",
            "12/12 [==============================] - 0s 11ms/step - loss: 0.1026 - accuracy: 0.9617\n"
          ],
          "name": "stdout"
        }
      ]
    },
    {
      "cell_type": "code",
      "metadata": {
        "id": "KuY4c8Tdm-7F",
        "colab_type": "code",
        "colab": {
          "base_uri": "https://localhost:8080/",
          "height": 52
        },
        "outputId": "15f4d059-6c06-43ab-adb2-07bb31f69666"
      },
      "source": [
        "# EVALUAMOS CON EL SET DE VALIDACION\n",
        "validation_text_list = np.asarray(train_df['text'])\n",
        "validation_target_list = np.asarray(train_df['target'])\n",
        "\n",
        "loss, precision = model.evaluate(validation_text_list, validation_target_list)\n",
        "print('Precisión: %.2f' % (precision*100))"
      ],
      "execution_count": null,
      "outputs": [
        {
          "output_type": "stream",
          "text": [
            "191/191 [==============================] - 0s 2ms/step - loss: 0.0987 - accuracy: 0.9626\n",
            "Precisión: 96.26\n"
          ],
          "name": "stdout"
        }
      ]
    },
    {
      "cell_type": "code",
      "metadata": {
        "id": "wpAEhLQGySbR",
        "colab_type": "code",
        "colab": {
          "base_uri": "https://localhost:8080/",
          "height": 139
        },
        "outputId": "c5ee4702-8f91-4f89-a3ce-33eaeea1985f"
      },
      "source": [
        "# ARMAMOS LA PREDICCIÓN\n",
        "test_text_list = np.asarray(test_df['text'])\n",
        "prediction = model.predict_classes(test_text_list)\n",
        "prediction"
      ],
      "execution_count": null,
      "outputs": [
        {
          "output_type": "execute_result",
          "data": {
            "text/plain": [
              "array([[1],\n",
              "       [1],\n",
              "       [1],\n",
              "       ...,\n",
              "       [1],\n",
              "       [1],\n",
              "       [1]], dtype=int32)"
            ]
          },
          "metadata": {
            "tags": []
          },
          "execution_count": 95
        }
      ]
    },
    {
      "cell_type": "code",
      "metadata": {
        "id": "KkSvLRovz4i-",
        "colab_type": "code",
        "colab": {
          "base_uri": "https://localhost:8080/",
          "height": 17
        },
        "outputId": "28f1421d-f6d4-4661-8adc-a27b347ad939"
      },
      "source": [
        "# EXPORTAMOS EL CSV EN EL FORMATO QUE PIDE KAGGLE\n",
        "test_df['target'] = prediction\n",
        "export = pd.DataFrame()\n",
        "export['id'] = test_df['id']\n",
        "export['target'] = test_df['target']\n",
        "export = export.set_index('id')\n",
        "export.to_csv('submit.csv')\n",
        "files.download('submit.csv')\n"
      ],
      "execution_count": null,
      "outputs": [
        {
          "output_type": "display_data",
          "data": {
            "application/javascript": [
              "\n",
              "    async function download(id, filename, size) {\n",
              "      if (!google.colab.kernel.accessAllowed) {\n",
              "        return;\n",
              "      }\n",
              "      const div = document.createElement('div');\n",
              "      const label = document.createElement('label');\n",
              "      label.textContent = `Downloading \"${filename}\": `;\n",
              "      div.appendChild(label);\n",
              "      const progress = document.createElement('progress');\n",
              "      progress.max = size;\n",
              "      div.appendChild(progress);\n",
              "      document.body.appendChild(div);\n",
              "\n",
              "      const buffers = [];\n",
              "      let downloaded = 0;\n",
              "\n",
              "      const channel = await google.colab.kernel.comms.open(id);\n",
              "      // Send a message to notify the kernel that we're ready.\n",
              "      channel.send({})\n",
              "\n",
              "      for await (const message of channel.messages) {\n",
              "        // Send a message to notify the kernel that we're ready.\n",
              "        channel.send({})\n",
              "        if (message.buffers) {\n",
              "          for (const buffer of message.buffers) {\n",
              "            buffers.push(buffer);\n",
              "            downloaded += buffer.byteLength;\n",
              "            progress.value = downloaded;\n",
              "          }\n",
              "        }\n",
              "      }\n",
              "      const blob = new Blob(buffers, {type: 'application/binary'});\n",
              "      const a = document.createElement('a');\n",
              "      a.href = window.URL.createObjectURL(blob);\n",
              "      a.download = filename;\n",
              "      div.appendChild(a);\n",
              "      a.click();\n",
              "      div.remove();\n",
              "    }\n",
              "  "
            ],
            "text/plain": [
              "<IPython.core.display.Javascript object>"
            ]
          },
          "metadata": {
            "tags": []
          }
        },
        {
          "output_type": "display_data",
          "data": {
            "application/javascript": [
              "download(\"download_f662835d-6946-407c-a9ea-46c6aa716bf6\", \"submit.csv\", 22746)"
            ],
            "text/plain": [
              "<IPython.core.display.Javascript object>"
            ]
          },
          "metadata": {
            "tags": []
          }
        }
      ]
    }
  ]
}