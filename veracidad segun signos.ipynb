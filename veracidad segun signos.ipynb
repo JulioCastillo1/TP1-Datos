{
  "nbformat": 4,
  "nbformat_minor": 0,
  "metadata": {
    "kernelspec": {
      "display_name": "Python 3",
      "language": "python",
      "name": "python3"
    },
    "language_info": {
      "codemirror_mode": {
        "name": "ipython",
        "version": 3
      },
      "file_extension": ".py",
      "mimetype": "text/x-python",
      "name": "python",
      "nbconvert_exporter": "python",
      "pygments_lexer": "ipython3",
      "version": "3.7.7"
    },
    "colab": {
      "name": "veracidad segun signos.ipynb",
      "provenance": [],
      "include_colab_link": true
    }
  },
  "cells": [
    {
      "cell_type": "markdown",
      "metadata": {
        "id": "view-in-github",
        "colab_type": "text"
      },
      "source": [
        "<a href=\"https://colab.research.google.com/github/JulioCastillo1/TP1-Datos/blob/master/veracidad%20segun%20signos.ipynb\" target=\"_parent\"><img src=\"https://colab.research.google.com/assets/colab-badge.svg\" alt=\"Open In Colab\"/></a>"
      ]
    },
    {
      "cell_type": "code",
      "metadata": {
        "id": "oHQ98dv335xl",
        "colab_type": "code",
        "colab": {
          "base_uri": "https://localhost:8080/",
          "height": 34
        },
        "outputId": "b8ae0ab5-cc09-49b5-d6c4-3780286e31b5"
      },
      "source": [
        "import pandas as pd\n",
        "import numpy as np\n",
        "import seaborn as sns\n",
        "import matplotlib.pyplot as plt\n",
        "from matplotlib.colors import ListedColormap\n",
        "\n",
        "%pylab inline\n",
        "\n",
        "url='https://raw.githubusercontent.com/JulioCastillo1/TP1-Datos/master/train.csv'\n",
        "tweets = pd.read_csv(url)"
      ],
      "execution_count": 36,
      "outputs": [
        {
          "output_type": "stream",
          "text": [
            "Populating the interactive namespace from numpy and matplotlib\n"
          ],
          "name": "stdout"
        }
      ]
    },
    {
      "cell_type": "code",
      "metadata": {
        "id": "n3QjzQuz35yZ",
        "colab_type": "code",
        "colab": {
          "base_uri": "https://localhost:8080/",
          "height": 206
        },
        "outputId": "ae59d751-cc7b-4752-c304-7eeb41c59100"
      },
      "source": [
        "tweets['tiene_signo_interr_o_admir'] = tweets['text'].str.contains('\\?')\n",
        "tweets['tiene_signo_interr_o_admir'] = (tweets['tiene_signo_interr_o_admir']) | (tweets['text'].str.contains('\\!'))\n",
        "\n",
        "a = tweets[tweets['tiene_signo_interr_o_admir'] == True]\n",
        "a.head()"
      ],
      "execution_count": 37,
      "outputs": [
        {
          "output_type": "execute_result",
          "data": {
            "text/html": [
              "<div>\n",
              "<style scoped>\n",
              "    .dataframe tbody tr th:only-of-type {\n",
              "        vertical-align: middle;\n",
              "    }\n",
              "\n",
              "    .dataframe tbody tr th {\n",
              "        vertical-align: top;\n",
              "    }\n",
              "\n",
              "    .dataframe thead th {\n",
              "        text-align: right;\n",
              "    }\n",
              "</style>\n",
              "<table border=\"1\" class=\"dataframe\">\n",
              "  <thead>\n",
              "    <tr style=\"text-align: right;\">\n",
              "      <th></th>\n",
              "      <th>id</th>\n",
              "      <th>keyword</th>\n",
              "      <th>location</th>\n",
              "      <th>text</th>\n",
              "      <th>target</th>\n",
              "      <th>tiene_signo_interr_o_admir</th>\n",
              "    </tr>\n",
              "  </thead>\n",
              "  <tbody>\n",
              "    <tr>\n",
              "      <th>15</th>\n",
              "      <td>23</td>\n",
              "      <td>NaN</td>\n",
              "      <td>NaN</td>\n",
              "      <td>What's up man?</td>\n",
              "      <td>0</td>\n",
              "      <td>True</td>\n",
              "    </tr>\n",
              "    <tr>\n",
              "      <th>19</th>\n",
              "      <td>28</td>\n",
              "      <td>NaN</td>\n",
              "      <td>NaN</td>\n",
              "      <td>What a goooooooaaaaaal!!!!!!</td>\n",
              "      <td>0</td>\n",
              "      <td>True</td>\n",
              "    </tr>\n",
              "    <tr>\n",
              "      <th>23</th>\n",
              "      <td>34</td>\n",
              "      <td>NaN</td>\n",
              "      <td>NaN</td>\n",
              "      <td>What a wonderful day!</td>\n",
              "      <td>0</td>\n",
              "      <td>True</td>\n",
              "    </tr>\n",
              "    <tr>\n",
              "      <th>26</th>\n",
              "      <td>38</td>\n",
              "      <td>NaN</td>\n",
              "      <td>NaN</td>\n",
              "      <td>Was in NYC last week!</td>\n",
              "      <td>0</td>\n",
              "      <td>True</td>\n",
              "    </tr>\n",
              "    <tr>\n",
              "      <th>29</th>\n",
              "      <td>41</td>\n",
              "      <td>NaN</td>\n",
              "      <td>NaN</td>\n",
              "      <td>Do you like pasta?</td>\n",
              "      <td>0</td>\n",
              "      <td>True</td>\n",
              "    </tr>\n",
              "  </tbody>\n",
              "</table>\n",
              "</div>"
            ],
            "text/plain": [
              "    id keyword  ... target tiene_signo_interr_o_admir\n",
              "15  23     NaN  ...      0                       True\n",
              "19  28     NaN  ...      0                       True\n",
              "23  34     NaN  ...      0                       True\n",
              "26  38     NaN  ...      0                       True\n",
              "29  41     NaN  ...      0                       True\n",
              "\n",
              "[5 rows x 6 columns]"
            ]
          },
          "metadata": {
            "tags": []
          },
          "execution_count": 37
        }
      ]
    },
    {
      "cell_type": "code",
      "metadata": {
        "id": "Y5nI0sad35zJ",
        "colab_type": "code",
        "colab": {
          "base_uri": "https://localhost:8080/",
          "height": 524
        },
        "outputId": "b0f5255e-8c4a-4986-908c-2cc50e3de0c1"
      },
      "source": [
        "cantidad_de_tweets_con_signos_y_verdaderos = tweets[(tweets['tiene_signo_interr_o_admir'] == True) & (tweets['target'] == 1)].shape[0]\n",
        "cantidad_de_tweets_con_signos_y_falsos = tweets[(tweets['tiene_signo_interr_o_admir'] == True) & (tweets['target'] == 0)].shape[0]\n",
        "cantidad_de_tweets_sin_signos_y_verdaderos = tweets[(tweets['tiene_signo_interr_o_admir'] == False) & (tweets['target'] == 1)].shape[0]\n",
        "cantidad_de_tweets_sin_signos_y_falsos = tweets[(tweets['tiene_signo_interr_o_admir'] == False) & (tweets['target'] == 0)].shape[0]\n",
        "\n",
        "plt.rcParams['figure.dpi'] = 150\n",
        "\n",
        "info1 = pd.Series([cantidad_de_tweets_con_signos_y_verdaderos, cantidad_de_tweets_con_signos_y_falsos],\\\n",
        "                  index = ['Verdaderos','Falsos'], name = '')\n",
        "info2 = pd.Series([cantidad_de_tweets_sin_signos_y_verdaderos, cantidad_de_tweets_sin_signos_y_falsos],\\\n",
        "                  index = ['Verdaderos','Falsos'], name = '')\n",
        "                  \n",
        "mpl.rcParams['font.size'] = 10.0\n",
        "\n",
        "fig, (ax1, ax2) = plt.subplots(1,2)\n",
        "\n",
        "fig.suptitle('Veracidad de los tweets según tengan signos de admiración y/o interrogación')\n",
        "\n",
        "mpl.rcParams['font.size'] = 8.0\n",
        "\n",
        "ax1.set_title('Con signos')\n",
        "ax2.set_title('Sin signos')\n",
        "\n",
        "plt.subplots_adjust(wspace = 0)\n",
        "\n",
        "info1.plot(kind='pie', ax = ax1, autopct='%1.0f%%')\n",
        "info2.plot(kind='pie', ax = ax2, autopct='%1.0f%%')\n"
      ],
      "execution_count": 38,
      "outputs": [
        {
          "output_type": "execute_result",
          "data": {
            "text/plain": [
              "<matplotlib.axes._subplots.AxesSubplot at 0x7f131a131d68>"
            ]
          },
          "metadata": {
            "tags": []
          },
          "execution_count": 38
        },
        {
          "output_type": "display_data",
          "data": {
            "image/png": "[encoded data removed]",
            "text/plain": [
              "<Figure size 900x600 with 2 Axes>"
            ]
          },
          "metadata": {
            "tags": []
          }
        }
      ]
    },
    {
      "cell_type": "code",
      "metadata": {
        "id": "N2qlR1wX35zt",
        "colab_type": "code",
        "colab": {
          "base_uri": "https://localhost:8080/",
          "height": 206
        },
        "outputId": "5b0c0c37-1ee6-4808-b89a-6eeff749a50d"
      },
      "source": [
        "tweets['cantidad de signos'] = tweets['text'].apply(lambda x: x.count('?')+x.count('!'))\n",
        "tweets.head()"
      ],
      "execution_count": 39,
      "outputs": [
        {
          "output_type": "execute_result",
          "data": {
            "text/html": [
              "<div>\n",
              "<style scoped>\n",
              "    .dataframe tbody tr th:only-of-type {\n",
              "        vertical-align: middle;\n",
              "    }\n",
              "\n",
              "    .dataframe tbody tr th {\n",
              "        vertical-align: top;\n",
              "    }\n",
              "\n",
              "    .dataframe thead th {\n",
              "        text-align: right;\n",
              "    }\n",
              "</style>\n",
              "<table border=\"1\" class=\"dataframe\">\n",
              "  <thead>\n",
              "    <tr style=\"text-align: right;\">\n",
              "      <th></th>\n",
              "      <th>id</th>\n",
              "      <th>keyword</th>\n",
              "      <th>location</th>\n",
              "      <th>text</th>\n",
              "      <th>target</th>\n",
              "      <th>tiene_signo_interr_o_admir</th>\n",
              "      <th>cantidad de signos</th>\n",
              "    </tr>\n",
              "  </thead>\n",
              "  <tbody>\n",
              "    <tr>\n",
              "      <th>0</th>\n",
              "      <td>1</td>\n",
              "      <td>NaN</td>\n",
              "      <td>NaN</td>\n",
              "      <td>Our Deeds are the Reason of this #earthquake M...</td>\n",
              "      <td>1</td>\n",
              "      <td>False</td>\n",
              "      <td>0</td>\n",
              "    </tr>\n",
              "    <tr>\n",
              "      <th>1</th>\n",
              "      <td>4</td>\n",
              "      <td>NaN</td>\n",
              "      <td>NaN</td>\n",
              "      <td>Forest fire near La Ronge Sask. Canada</td>\n",
              "      <td>1</td>\n",
              "      <td>False</td>\n",
              "      <td>0</td>\n",
              "    </tr>\n",
              "    <tr>\n",
              "      <th>2</th>\n",
              "      <td>5</td>\n",
              "      <td>NaN</td>\n",
              "      <td>NaN</td>\n",
              "      <td>All residents asked to 'shelter in place' are ...</td>\n",
              "      <td>1</td>\n",
              "      <td>False</td>\n",
              "      <td>0</td>\n",
              "    </tr>\n",
              "    <tr>\n",
              "      <th>3</th>\n",
              "      <td>6</td>\n",
              "      <td>NaN</td>\n",
              "      <td>NaN</td>\n",
              "      <td>13,000 people receive #wildfires evacuation or...</td>\n",
              "      <td>1</td>\n",
              "      <td>False</td>\n",
              "      <td>0</td>\n",
              "    </tr>\n",
              "    <tr>\n",
              "      <th>4</th>\n",
              "      <td>7</td>\n",
              "      <td>NaN</td>\n",
              "      <td>NaN</td>\n",
              "      <td>Just got sent this photo from Ruby #Alaska as ...</td>\n",
              "      <td>1</td>\n",
              "      <td>False</td>\n",
              "      <td>0</td>\n",
              "    </tr>\n",
              "  </tbody>\n",
              "</table>\n",
              "</div>"
            ],
            "text/plain": [
              "   id keyword location  ... target  tiene_signo_interr_o_admir  cantidad de signos\n",
              "0   1     NaN      NaN  ...      1                       False                   0\n",
              "1   4     NaN      NaN  ...      1                       False                   0\n",
              "2   5     NaN      NaN  ...      1                       False                   0\n",
              "3   6     NaN      NaN  ...      1                       False                   0\n",
              "4   7     NaN      NaN  ...      1                       False                   0\n",
              "\n",
              "[5 rows x 7 columns]"
            ]
          },
          "metadata": {
            "tags": []
          },
          "execution_count": 39
        }
      ]
    },
    {
      "cell_type": "code",
      "metadata": {
        "id": "zV7DBWWe4A6I",
        "colab_type": "code",
        "colab": {
          "base_uri": "https://localhost:8080/",
          "height": 310
        },
        "outputId": "03b2f73c-e7c8-4247-ea6d-526832b30109"
      },
      "source": [
        "a = tweets.loc[tweets['tiene_signo_interr_o_admir'] != False]\n",
        "a['counter'] = 1\n",
        "a.head()"
      ],
      "execution_count": 40,
      "outputs": [
        {
          "output_type": "stream",
          "text": [
            "/usr/local/lib/python3.6/dist-packages/ipykernel_launcher.py:2: SettingWithCopyWarning: \n",
            "A value is trying to be set on a copy of a slice from a DataFrame.\n",
            "Try using .loc[row_indexer,col_indexer] = value instead\n",
            "\n",
            "See the caveats in the documentation: https://pandas.pydata.org/pandas-docs/stable/user_guide/indexing.html#returning-a-view-versus-a-copy\n",
            "  \n"
          ],
          "name": "stderr"
        },
        {
          "output_type": "execute_result",
          "data": {
            "text/html": [
              "<div>\n",
              "<style scoped>\n",
              "    .dataframe tbody tr th:only-of-type {\n",
              "        vertical-align: middle;\n",
              "    }\n",
              "\n",
              "    .dataframe tbody tr th {\n",
              "        vertical-align: top;\n",
              "    }\n",
              "\n",
              "    .dataframe thead th {\n",
              "        text-align: right;\n",
              "    }\n",
              "</style>\n",
              "<table border=\"1\" class=\"dataframe\">\n",
              "  <thead>\n",
              "    <tr style=\"text-align: right;\">\n",
              "      <th></th>\n",
              "      <th>id</th>\n",
              "      <th>keyword</th>\n",
              "      <th>location</th>\n",
              "      <th>text</th>\n",
              "      <th>target</th>\n",
              "      <th>tiene_signo_interr_o_admir</th>\n",
              "      <th>cantidad de signos</th>\n",
              "      <th>counter</th>\n",
              "    </tr>\n",
              "  </thead>\n",
              "  <tbody>\n",
              "    <tr>\n",
              "      <th>15</th>\n",
              "      <td>23</td>\n",
              "      <td>NaN</td>\n",
              "      <td>NaN</td>\n",
              "      <td>What's up man?</td>\n",
              "      <td>0</td>\n",
              "      <td>True</td>\n",
              "      <td>1</td>\n",
              "      <td>1</td>\n",
              "    </tr>\n",
              "    <tr>\n",
              "      <th>19</th>\n",
              "      <td>28</td>\n",
              "      <td>NaN</td>\n",
              "      <td>NaN</td>\n",
              "      <td>What a goooooooaaaaaal!!!!!!</td>\n",
              "      <td>0</td>\n",
              "      <td>True</td>\n",
              "      <td>6</td>\n",
              "      <td>1</td>\n",
              "    </tr>\n",
              "    <tr>\n",
              "      <th>23</th>\n",
              "      <td>34</td>\n",
              "      <td>NaN</td>\n",
              "      <td>NaN</td>\n",
              "      <td>What a wonderful day!</td>\n",
              "      <td>0</td>\n",
              "      <td>True</td>\n",
              "      <td>1</td>\n",
              "      <td>1</td>\n",
              "    </tr>\n",
              "    <tr>\n",
              "      <th>26</th>\n",
              "      <td>38</td>\n",
              "      <td>NaN</td>\n",
              "      <td>NaN</td>\n",
              "      <td>Was in NYC last week!</td>\n",
              "      <td>0</td>\n",
              "      <td>True</td>\n",
              "      <td>1</td>\n",
              "      <td>1</td>\n",
              "    </tr>\n",
              "    <tr>\n",
              "      <th>29</th>\n",
              "      <td>41</td>\n",
              "      <td>NaN</td>\n",
              "      <td>NaN</td>\n",
              "      <td>Do you like pasta?</td>\n",
              "      <td>0</td>\n",
              "      <td>True</td>\n",
              "      <td>1</td>\n",
              "      <td>1</td>\n",
              "    </tr>\n",
              "  </tbody>\n",
              "</table>\n",
              "</div>"
            ],
            "text/plain": [
              "    id keyword  ... cantidad de signos counter\n",
              "15  23     NaN  ...                  1       1\n",
              "19  28     NaN  ...                  6       1\n",
              "23  34     NaN  ...                  1       1\n",
              "26  38     NaN  ...                  1       1\n",
              "29  41     NaN  ...                  1       1\n",
              "\n",
              "[5 rows x 8 columns]"
            ]
          },
          "metadata": {
            "tags": []
          },
          "execution_count": 40
        }
      ]
    },
    {
      "cell_type": "code",
      "metadata": {
        "id": "kmArL-8V5Mn_",
        "colab_type": "code",
        "colab": {
          "base_uri": "https://localhost:8080/",
          "height": 503
        },
        "outputId": "2c1805d7-ef82-46d6-b2b6-b003f01c62ac"
      },
      "source": [
        " b = a.loc[a['target'] == 1].groupby('cantidad de signos').agg('count')['counter']\n",
        " c = a.loc[a['target'] == 0].groupby('cantidad de signos').agg('count')['counter']\n",
        " a = a.groupby('cantidad de signos').agg('count')['counter']\n",
        " a"
      ],
      "execution_count": 41,
      "outputs": [
        {
          "output_type": "execute_result",
          "data": {
            "text/plain": [
              "cantidad de signos\n",
              "1     804\n",
              "2     415\n",
              "3      94\n",
              "4     121\n",
              "5      25\n",
              "6      74\n",
              "7      16\n",
              "8      35\n",
              "9       6\n",
              "10     15\n",
              "11      7\n",
              "12     15\n",
              "13      1\n",
              "14      2\n",
              "15      1\n",
              "16      1\n",
              "18      3\n",
              "20      1\n",
              "21      1\n",
              "22      2\n",
              "24      1\n",
              "26      1\n",
              "28      1\n",
              "34      1\n",
              "50      2\n",
              "54      1\n",
              "Name: counter, dtype: int64"
            ]
          },
          "metadata": {
            "tags": []
          },
          "execution_count": 41
        }
      ]
    },
    {
      "cell_type": "code",
      "metadata": {
        "id": "Ktb8tKLS5rbN",
        "colab_type": "code",
        "colab": {
          "base_uri": "https://localhost:8080/",
          "height": 575
        },
        "outputId": "0b751ded-1270-4807-9a2b-bcb3a7a1447c"
      },
      "source": [
        "fi, ax =plt.subplots()\n",
        "a.plot.line(color = ListedColormap(sns.color_palette('deep'))(9))\n",
        "b.plot.line(color = ListedColormap(sns.color_palette('deep'))(0))\n",
        "c.plot.line(color = ListedColormap(sns.color_palette('deep'))(1))\n",
        "ax.set_ylabel('Catidad de Tweets')\n",
        "ax.set_xlabel('Cantidad de signos')"
      ],
      "execution_count": 45,
      "outputs": [
        {
          "output_type": "execute_result",
          "data": {
            "text/plain": [
              "Text(0.5, 0, 'Cantidad de signos')"
            ]
          },
          "metadata": {
            "tags": []
          },
          "execution_count": 45
        },
        {
          "output_type": "display_data",
          "data": {
            "image/png": "[encoded data removed]",
            "text/plain": [
              "<Figure size 900x600 with 1 Axes>"
            ]
          },
          "metadata": {
            "tags": [],
            "needs_background": "light"
          }
        }
      ]
    },
    {
      "cell_type": "code",
      "metadata": {
        "id": "g4X-fFJM6J9C",
        "colab_type": "code",
        "colab": {}
      },
      "source": [
        ""
      ],
      "execution_count": 0,
      "outputs": []
    }
  ]
}